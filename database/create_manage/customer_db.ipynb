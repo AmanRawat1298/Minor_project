{
 "metadata": {
  "language_info": {
   "codemirror_mode": {
    "name": "ipython",
    "version": 3
   },
   "file_extension": ".py",
   "mimetype": "text/x-python",
   "name": "python",
   "nbconvert_exporter": "python",
   "pygments_lexer": "ipython3",
   "version": "3.8.5-final"
  },
  "orig_nbformat": 2,
  "kernelspec": {
   "name": "python3",
   "display_name": "Python 3",
   "language": "python"
  }
 },
 "nbformat": 4,
 "nbformat_minor": 2,
 "cells": [
  {
   "source": [
    "##  customer_data\n",
    "##  customer_id  name tables\n",
    "##  orders_id :  same as transactions except customer_id"
   ],
   "cell_type": "markdown",
   "metadata": {}
  },
  {
   "source": [
    "### when added item in transaction store info will be updated and customer_id_order table will be updated"
   ],
   "cell_type": "markdown",
   "metadata": {}
  },
  {
   "cell_type": "code",
   "execution_count": 28,
   "metadata": {},
   "outputs": [],
   "source": [
    "import sqlite3\n",
    "import pandas as pd\n",
    "import datetime"
   ]
  },
  {
   "cell_type": "code",
   "execution_count": 29,
   "metadata": {},
   "outputs": [],
   "source": [
    "con = sqlite3.connect('../new_data.db')\n",
    "cursorObj = con.cursor()"
   ]
  },
  {
   "cell_type": "code",
   "execution_count": 30,
   "metadata": {},
   "outputs": [],
   "source": [
    "def find_next_invoice_no(transactions_1):\n",
    "    \n",
    "    invoice_1 = transactions_1['Invoice']#.sort_values()\n",
    "    invoice_1 = sorted(invoice_1)\n",
    "    if(len(invoice_1) == 0):\n",
    "        return str(1)\n",
    "    count = 0\n",
    "    for i in invoice_1:\n",
    "        if (i[0] == '1' or i[0] == '2' or i[0] == '3' or i[0] == '4' or i[0] == '5' or i[0] == '6' or i[0] == '7' or i[0] == '8' or i[0] == '9' or i[0] == '0' ):\n",
    "            count = count + 1\n",
    "        else:\n",
    "            break\n",
    "\n",
    "    if(count>0):\n",
    "        count = count - 1\n",
    "    # print(\"last index : \",count,\"| value :\", invoice_1[count])\n",
    "    val = int(invoice_1[count])\n",
    "    # print(\"next invoice number: \", val+1)\n",
    "    return str(val+1)\n",
    "\n",
    "\n",
    "def update_store(retailer_id, stockcode, quantity, cursorObj, con):\n",
    "\n",
    "    sql = \"update store_\"+str(retailer_id)+\" set Quantity = Quantity - \"+str(quantity)+\" WHERE StockCode = ?\"\n",
    "    print(retailer_id, stockcode, quantity)\n",
    "    cursorObj.execute(sql, (stockcode,))\n",
    "    con.commit()\n",
    "    print('updated store data of retailer')\n",
    "\n",
    "    \n",
    "\n",
    "def insert_into_transactions(stockcode, description, quantity, price, country, customer_id, retailer_id, con, cursorObj):\n",
    "   \n",
    "    #name of retailor's transcations table\n",
    "    val = cursorObj.execute('select Transactions_table from retailor_data where retailor_id = ?', (retailer_id,))\n",
    "\n",
    "    transactions_table_name = val.fetchall()\n",
    "    transactions_table_name = transactions_table_name[0][0]\n",
    "    print(\"entered values in transactions_\" +  str(retailer_id))\n",
    "\n",
    "    #updating store_info of retailer\n",
    "    \n",
    "    sql = \"update store_\"+str(retailer_id)+\" set Quantity = Quantity - \"+str(quantity)+\" WHERE StockCode = ?\"\n",
    "    cursorObj.execute(sql, (stockcode,))\n",
    "    con.commit()\n",
    "    print('updated store data of retailer_'+str(retailer_id))\n",
    "\n",
    "\n",
    "    sql = \"insert into \"+str(transactions_table_name)+\" values(?,?,?,?,?,?,?,?);\"\n",
    "\n",
    "\n",
    "    query = \"select * from \" + transactions_table_name\n",
    "    #getting complete transaction table\n",
    "    transactions_table = pd.read_sql_query(query,con)\n",
    "    \n",
    "    #Getting invoice number\n",
    "    invoice = find_next_invoice_no(transactions_table)\n",
    "    timestamp =  datetime.datetime.now().replace(microsecond = 0)\n",
    "    \n",
    "    \n",
    "    details = (invoice, stockcode, description, quantity , timestamp, price, customer_id, country)\n",
    "    cursorObj.execute(sql, details)\n",
    "\n",
    "\n",
    "    #Entering in customer order\n",
    "    sql = \"insert into orders_\"+str(customer_id)+\" values(?,?,?,?,?,?,?);\"\n",
    "    details = (invoice, stockcode, description, quantity , timestamp, price, country)\n",
    "    cursorObj.execute(sql, details)\n",
    "    print(\"entered the placed order in order table of customer_\"+str(customer_id))\n",
    "    con.commit()\n",
    "\n",
    "    print('successfully completed transcation!')"
   ]
  },
  {
   "cell_type": "code",
   "execution_count": null,
   "metadata": {},
   "outputs": [],
   "source": []
  },
  {
   "cell_type": "code",
   "execution_count": 31,
   "metadata": {},
   "outputs": [],
   "source": [
    "def generate_sales(con, cursorObj, df, retailer_id):\n",
    "\n",
    "    df['Price'] = df['Quantity']*df['Price']\n",
    "    df['InvoiceDate_formatted'] = pd.to_datetime(df['InvoiceDate'])\n",
    "    df['just_date'] = df['InvoiceDate_formatted'].dt.date\n",
    "    dates = df['just_date'].unique()\n",
    "    price_list = []\n",
    "    dates_list = []\n",
    "    for i in dates:\n",
    "        amount = df[df['just_date'] == i]['Price'].sum()\n",
    "        dates_list.append(i)\n",
    "        price_list.append(amount)\n",
    "    df[df['just_date'] == dates[0]]['Price'].sum()\n",
    "    df = pd.DataFrame(list(zip(dates_list, price_list)), \n",
    "                columns =['Date', 'Price']) \n",
    "    df.to_sql('sales_'+str(retailer_id),con, if_exists='replace',index = False , schema = 'schema_name') \n",
    "    con.commit()\n",
    "    \n",
    "def upload_csv(con, cursorObj, retailer_id, store_info = pd.DataFrame, transactions_info = pd.DataFrame):\n",
    "    if store_info.empty == False:\n",
    "        store_info.to_sql(\"store_\"+str(retailer_id), con, index = False, if_exists = 'replace')\n",
    "        con.commit()\n",
    "        print(\"store csv values uploaded in store_\"+str(retailer_id))\n",
    "    else:\n",
    "        print(\"store table is empty\")\n",
    "    \n",
    "    if transactions_info.empty == False:\n",
    "        transactions_info.to_sql(\"transactions_\"+str(retailer_id), con, index = False, if_exists = 'replace', schema = 'schema_name')\n",
    "        generate_sales(con, cursorObj, transactions_info, retailer_id)\n",
    "        print('sales_'+str(retailer_id)+' table also generated based on transactions')\n",
    "        con.commit()\n",
    "        print(\"transactions csv values uploaded in transactions_\"+str(retailer_id))\n",
    "    else:\n",
    "        print(\"transaction table is empty\")\n"
   ]
  },
  {
   "cell_type": "code",
   "execution_count": 32,
   "metadata": {},
   "outputs": [],
   "source": [
    "df2 =  pd.read_sql_query('select * from transactions_1', con)\n",
    "df  =  pd.read_sql_query('select * from store_1', con)\n",
    "upload_csv(con, cursorObj, 1, df, df2)"
   ]
  },
  {
   "cell_type": "code",
   "execution_count": 34,
   "metadata": {},
   "outputs": [
    {
     "output_type": "stream",
     "name": "stdout",
     "text": [
      "store csv values uploaded in store_2\n",
      "sales_2 table also generated based on transactions\n",
      "transactions csv values uploaded in transactions_2\n"
     ]
    }
   ],
   "source": [
    "df2 =  pd.read_sql_query('select * from transactions_2', con)\n",
    "df  =  pd.read_sql_query('select * from store_2', con)\n",
    "upload_csv(con, cursorObj, 2, df, df2)"
   ]
  },
  {
   "source": [
    "# pass variable accordingly"
   ],
   "cell_type": "markdown",
   "metadata": {}
  },
  {
   "cell_type": "code",
   "execution_count": 70,
   "metadata": {},
   "outputs": [
    {
     "output_type": "stream",
     "name": "stdout",
     "text": [
      "store csv values uploaded in store_14\n",
      "transactions csv values uploaded in transactions_14\n",
      "store table is empty\n",
      "transactions csv values uploaded in transactions_14\n",
      "store csv values uploaded in store_14\n",
      "transaction table is empty\n",
      "store table is empty\n",
      "transaction table is empty\n"
     ]
    }
   ],
   "source": [
    "# retailer id  14\n",
    "upload_csv(con, cursorObj, 14, store_info = df,transactions_info = df2 )\n",
    "upload_csv(con, cursorObj, 14, transactions_info = df2 )\n",
    "upload_csv(con, cursorObj, 14, df )\n",
    "upload_csv(con, cursorObj, 14, )"
   ]
  },
  {
   "cell_type": "code",
   "execution_count": null,
   "metadata": {},
   "outputs": [],
   "source": []
  },
  {
   "cell_type": "code",
   "execution_count": null,
   "metadata": {},
   "outputs": [],
   "source": []
  },
  {
   "cell_type": "code",
   "execution_count": 32,
   "metadata": {},
   "outputs": [
    {
     "output_type": "stream",
     "name": "stdout",
     "text": [
      "entered values in transactions_1\n",
      "updated store data of retailer_1\n",
      "entered the placed order in order table of customer_12\n",
      "successfully completed transcation!\n"
     ]
    }
   ],
   "source": [
    "insert_into_transactions('85123A','WHITE HANGING HEART T-LIGHT HOLDER', 12, 2.55, 'United Kingdom', 12, 1, con, cursorObj)"
   ]
  },
  {
   "cell_type": "code",
   "execution_count": null,
   "metadata": {},
   "outputs": [],
   "source": []
  },
  {
   "cell_type": "code",
   "execution_count": null,
   "metadata": {},
   "outputs": [],
   "source": []
  },
  {
   "cell_type": "code",
   "execution_count": null,
   "metadata": {},
   "outputs": [],
   "source": []
  },
  {
   "cell_type": "code",
   "execution_count": null,
   "metadata": {},
   "outputs": [],
   "source": []
  },
  {
   "cell_type": "code",
   "execution_count": 3,
   "metadata": {},
   "outputs": [],
   "source": [
    "customer_data = pd.DataFrame(columns=['customer_id', 'Name', 'order_table'])\n"
   ]
  },
  {
   "cell_type": "code",
   "execution_count": 24,
   "metadata": {},
   "outputs": [],
   "source": [
    "customer_data = customer_data.append({'customer_id':3,  'Name':'Aakash',  'order_table':'orders_3'\n",
    "},    ignore_index = True)\n"
   ]
  },
  {
   "cell_type": "code",
   "execution_count": 25,
   "metadata": {},
   "outputs": [],
   "source": [
    "customer_data = customer_data.append({'customer_id':4,  'Name':'Ashutosh',  'order_table':'orders_4'\n",
    "},    ignore_index = True)"
   ]
  },
  {
   "cell_type": "code",
   "execution_count": 26,
   "metadata": {},
   "outputs": [
    {
     "output_type": "execute_result",
     "data": {
      "text/plain": [
       "  customer_id      Name order_table\n",
       "0           3    Aakash    orders_3\n",
       "1           4  Ashutosh    orders_4"
      ],
      "text/html": "<div>\n<style scoped>\n    .dataframe tbody tr th:only-of-type {\n        vertical-align: middle;\n    }\n\n    .dataframe tbody tr th {\n        vertical-align: top;\n    }\n\n    .dataframe thead th {\n        text-align: right;\n    }\n</style>\n<table border=\"1\" class=\"dataframe\">\n  <thead>\n    <tr style=\"text-align: right;\">\n      <th></th>\n      <th>customer_id</th>\n      <th>Name</th>\n      <th>order_table</th>\n    </tr>\n  </thead>\n  <tbody>\n    <tr>\n      <th>0</th>\n      <td>3</td>\n      <td>Aakash</td>\n      <td>orders_3</td>\n    </tr>\n    <tr>\n      <th>1</th>\n      <td>4</td>\n      <td>Ashutosh</td>\n      <td>orders_4</td>\n    </tr>\n  </tbody>\n</table>\n</div>"
     },
     "metadata": {},
     "execution_count": 26
    }
   ],
   "source": [
    "# customer_data.drop([0], inplace=True)\n",
    "customer_data"
   ]
  },
  {
   "cell_type": "code",
   "execution_count": 27,
   "metadata": {},
   "outputs": [],
   "source": [
    "customer_data.to_sql('customer_data', con)"
   ]
  },
  {
   "cell_type": "code",
   "execution_count": 28,
   "metadata": {},
   "outputs": [],
   "source": [
    "con.commit()"
   ]
  },
  {
   "source": [
    "# Making their order table"
   ],
   "cell_type": "markdown",
   "metadata": {}
  },
  {
   "cell_type": "code",
   "execution_count": 31,
   "metadata": {},
   "outputs": [],
   "source": [
    "orders_3 = pd.DataFrame(columns=['Invoice', 'StockCode', 'Description', 'Quantity', 'InvoiceDate', 'Price','Country'])\n",
    "orders_4 = pd.DataFrame(columns=['Invoice', 'StockCode', 'Description', 'Quantity', 'InvoiceDate', 'Price','Country'])\n"
   ]
  },
  {
   "cell_type": "code",
   "execution_count": 32,
   "metadata": {},
   "outputs": [],
   "source": [
    "# orders_3 = orders_3.append({'Invoice': , 'StockCode': , 'Description':, 'Quantity': , 'InvoiceDate': , 'Price': ,'Country': },    ignore_index = True)\n"
   ]
  },
  {
   "cell_type": "code",
   "execution_count": null,
   "metadata": {},
   "outputs": [],
   "source": []
  },
  {
   "cell_type": "code",
   "execution_count": null,
   "metadata": {},
   "outputs": [],
   "source": []
  },
  {
   "cell_type": "code",
   "execution_count": 9,
   "metadata": {},
   "outputs": [
    {
     "output_type": "error",
     "ename": "OperationalError",
     "evalue": "database is locked",
     "traceback": [
      "\u001b[0;31m---------------------------------------------------------------------------\u001b[0m",
      "\u001b[0;31mOperationalError\u001b[0m                          Traceback (most recent call last)",
      "\u001b[0;32m<ipython-input-9-0ab7275477f3>\u001b[0m in \u001b[0;36m<module>\u001b[0;34m\u001b[0m\n\u001b[0;32m----> 1\u001b[0;31m \u001b[0mcursorObj\u001b[0m\u001b[0;34m.\u001b[0m\u001b[0mexecute\u001b[0m\u001b[0;34m(\u001b[0m\u001b[0;34m'select * from transactions_1'\u001b[0m\u001b[0;34m)\u001b[0m\u001b[0;34m\u001b[0m\u001b[0;34m\u001b[0m\u001b[0m\n\u001b[0m",
      "\u001b[0;31mOperationalError\u001b[0m: database is locked"
     ]
    }
   ],
   "source": [
    "cursorObj.execute('select * from transactions_1')"
   ]
  },
  {
   "cell_type": "code",
   "execution_count": 3,
   "metadata": {},
   "outputs": [
    {
     "output_type": "error",
     "ename": "DatabaseError",
     "evalue": "Execution failed on sql 'select * from transactions_1': database is locked",
     "traceback": [
      "\u001b[0;31m---------------------------------------------------------------------------\u001b[0m",
      "\u001b[0;31mOperationalError\u001b[0m                          Traceback (most recent call last)",
      "\u001b[0;32m~/newenv/lib/python3.8/site-packages/pandas/io/sql.py\u001b[0m in \u001b[0;36mexecute\u001b[0;34m(self, *args, **kwargs)\u001b[0m\n\u001b[1;32m   1680\u001b[0m         \u001b[0;32mtry\u001b[0m\u001b[0;34m:\u001b[0m\u001b[0;34m\u001b[0m\u001b[0;34m\u001b[0m\u001b[0m\n\u001b[0;32m-> 1681\u001b[0;31m             \u001b[0mcur\u001b[0m\u001b[0;34m.\u001b[0m\u001b[0mexecute\u001b[0m\u001b[0;34m(\u001b[0m\u001b[0;34m*\u001b[0m\u001b[0margs\u001b[0m\u001b[0;34m,\u001b[0m \u001b[0;34m**\u001b[0m\u001b[0mkwargs\u001b[0m\u001b[0;34m)\u001b[0m\u001b[0;34m\u001b[0m\u001b[0;34m\u001b[0m\u001b[0m\n\u001b[0m\u001b[1;32m   1682\u001b[0m             \u001b[0;32mreturn\u001b[0m \u001b[0mcur\u001b[0m\u001b[0;34m\u001b[0m\u001b[0;34m\u001b[0m\u001b[0m\n",
      "\u001b[0;31mOperationalError\u001b[0m: database is locked",
      "\nThe above exception was the direct cause of the following exception:\n",
      "\u001b[0;31mDatabaseError\u001b[0m                             Traceback (most recent call last)",
      "\u001b[0;32m<ipython-input-3-55cb4a28937f>\u001b[0m in \u001b[0;36m<module>\u001b[0;34m\u001b[0m\n\u001b[1;32m      1\u001b[0m \u001b[0;31m## customer_id , st\u001b[0m\u001b[0;34m\u001b[0m\u001b[0;34m\u001b[0m\u001b[0;34m\u001b[0m\u001b[0m\n\u001b[0;32m----> 2\u001b[0;31m \u001b[0mtransactions_1\u001b[0m \u001b[0;34m=\u001b[0m \u001b[0mpd\u001b[0m\u001b[0;34m.\u001b[0m\u001b[0mread_sql_query\u001b[0m\u001b[0;34m(\u001b[0m\u001b[0;34m'select * from transactions_1'\u001b[0m\u001b[0;34m,\u001b[0m \u001b[0mcon\u001b[0m\u001b[0;34m)\u001b[0m\u001b[0;34m\u001b[0m\u001b[0;34m\u001b[0m\u001b[0m\n\u001b[0m\u001b[1;32m      3\u001b[0m \u001b[0mtransactions_2\u001b[0m \u001b[0;34m=\u001b[0m \u001b[0mpd\u001b[0m\u001b[0;34m.\u001b[0m\u001b[0mread_sql_query\u001b[0m\u001b[0;34m(\u001b[0m\u001b[0;34m'select * from transactions_2'\u001b[0m\u001b[0;34m,\u001b[0m \u001b[0mcon\u001b[0m\u001b[0;34m)\u001b[0m\u001b[0;34m\u001b[0m\u001b[0;34m\u001b[0m\u001b[0m\n",
      "\u001b[0;32m~/newenv/lib/python3.8/site-packages/pandas/io/sql.py\u001b[0m in \u001b[0;36mread_sql_query\u001b[0;34m(sql, con, index_col, coerce_float, params, parse_dates, chunksize)\u001b[0m\n\u001b[1;32m    375\u001b[0m     \"\"\"\n\u001b[1;32m    376\u001b[0m     \u001b[0mpandas_sql\u001b[0m \u001b[0;34m=\u001b[0m \u001b[0mpandasSQL_builder\u001b[0m\u001b[0;34m(\u001b[0m\u001b[0mcon\u001b[0m\u001b[0;34m)\u001b[0m\u001b[0;34m\u001b[0m\u001b[0;34m\u001b[0m\u001b[0m\n\u001b[0;32m--> 377\u001b[0;31m     return pandas_sql.read_query(\n\u001b[0m\u001b[1;32m    378\u001b[0m         \u001b[0msql\u001b[0m\u001b[0;34m,\u001b[0m\u001b[0;34m\u001b[0m\u001b[0;34m\u001b[0m\u001b[0m\n\u001b[1;32m    379\u001b[0m         \u001b[0mindex_col\u001b[0m\u001b[0;34m=\u001b[0m\u001b[0mindex_col\u001b[0m\u001b[0;34m,\u001b[0m\u001b[0;34m\u001b[0m\u001b[0;34m\u001b[0m\u001b[0m\n",
      "\u001b[0;32m~/newenv/lib/python3.8/site-packages/pandas/io/sql.py\u001b[0m in \u001b[0;36mread_query\u001b[0;34m(self, sql, index_col, coerce_float, params, parse_dates, chunksize)\u001b[0m\n\u001b[1;32m   1725\u001b[0m \u001b[0;34m\u001b[0m\u001b[0m\n\u001b[1;32m   1726\u001b[0m         \u001b[0margs\u001b[0m \u001b[0;34m=\u001b[0m \u001b[0m_convert_params\u001b[0m\u001b[0;34m(\u001b[0m\u001b[0msql\u001b[0m\u001b[0;34m,\u001b[0m \u001b[0mparams\u001b[0m\u001b[0;34m)\u001b[0m\u001b[0;34m\u001b[0m\u001b[0;34m\u001b[0m\u001b[0m\n\u001b[0;32m-> 1727\u001b[0;31m         \u001b[0mcursor\u001b[0m \u001b[0;34m=\u001b[0m \u001b[0mself\u001b[0m\u001b[0;34m.\u001b[0m\u001b[0mexecute\u001b[0m\u001b[0;34m(\u001b[0m\u001b[0;34m*\u001b[0m\u001b[0margs\u001b[0m\u001b[0;34m)\u001b[0m\u001b[0;34m\u001b[0m\u001b[0;34m\u001b[0m\u001b[0m\n\u001b[0m\u001b[1;32m   1728\u001b[0m         \u001b[0mcolumns\u001b[0m \u001b[0;34m=\u001b[0m \u001b[0;34m[\u001b[0m\u001b[0mcol_desc\u001b[0m\u001b[0;34m[\u001b[0m\u001b[0;36m0\u001b[0m\u001b[0;34m]\u001b[0m \u001b[0;32mfor\u001b[0m \u001b[0mcol_desc\u001b[0m \u001b[0;32min\u001b[0m \u001b[0mcursor\u001b[0m\u001b[0;34m.\u001b[0m\u001b[0mdescription\u001b[0m\u001b[0;34m]\u001b[0m\u001b[0;34m\u001b[0m\u001b[0;34m\u001b[0m\u001b[0m\n\u001b[1;32m   1729\u001b[0m \u001b[0;34m\u001b[0m\u001b[0m\n",
      "\u001b[0;32m~/newenv/lib/python3.8/site-packages/pandas/io/sql.py\u001b[0m in \u001b[0;36mexecute\u001b[0;34m(self, *args, **kwargs)\u001b[0m\n\u001b[1;32m   1691\u001b[0m \u001b[0;34m\u001b[0m\u001b[0m\n\u001b[1;32m   1692\u001b[0m             \u001b[0mex\u001b[0m \u001b[0;34m=\u001b[0m \u001b[0mDatabaseError\u001b[0m\u001b[0;34m(\u001b[0m\u001b[0;34mf\"Execution failed on sql '{args[0]}': {exc}\"\u001b[0m\u001b[0;34m)\u001b[0m\u001b[0;34m\u001b[0m\u001b[0;34m\u001b[0m\u001b[0m\n\u001b[0;32m-> 1693\u001b[0;31m             \u001b[0;32mraise\u001b[0m \u001b[0mex\u001b[0m \u001b[0;32mfrom\u001b[0m \u001b[0mexc\u001b[0m\u001b[0;34m\u001b[0m\u001b[0;34m\u001b[0m\u001b[0m\n\u001b[0m\u001b[1;32m   1694\u001b[0m \u001b[0;34m\u001b[0m\u001b[0m\n\u001b[1;32m   1695\u001b[0m     \u001b[0;34m@\u001b[0m\u001b[0mstaticmethod\u001b[0m\u001b[0;34m\u001b[0m\u001b[0;34m\u001b[0m\u001b[0m\n",
      "\u001b[0;31mDatabaseError\u001b[0m: Execution failed on sql 'select * from transactions_1': database is locked"
     ]
    }
   ],
   "source": [
    "## customer_id , st\n",
    "transactions_1 = pd.read_sql_query('select * from transactions_1', con)\n",
    "transactions_2 = pd.read_sql_query('select * from transactions_2', con)"
   ]
  },
  {
   "cell_type": "code",
   "execution_count": 5,
   "metadata": {},
   "outputs": [
    {
     "output_type": "execute_result",
     "data": {
      "text/plain": [
       "Index(['index', 'Invoice', 'StockCode', 'Description', 'Quantity',\n",
       "       'InvoiceDate', 'Price', 'Customer ID', 'Country'],\n",
       "      dtype='object')"
      ]
     },
     "metadata": {},
     "execution_count": 5
    }
   ],
   "source": [
    "transactions_1.columns"
   ]
  },
  {
   "cell_type": "code",
   "execution_count": 6,
   "metadata": {},
   "outputs": [],
   "source": [
    "# invoice_1 = transactions_1['Invoice']#.sort_values()\n",
    "# invoice_1 = sorted(invoice_1)\n",
    "# invoice_2 = transactions_2['Invoice']#.sort_values()\n",
    "# invoice_2 = sorted(invoice_2)"
   ]
  },
  {
   "cell_type": "code",
   "execution_count": 7,
   "metadata": {},
   "outputs": [],
   "source": [
    "# count = 0\n",
    "# for i in invoice_1:\n",
    "#     if (i[0] == '1' or i[0] == '2' or i[0] == '3' or i[0] == '4' or i[0] == '5' or i[0] == '6' or i[0] == '7' or i[0] == '8' or i[0] == '9' or i[0] == '0' ):\n",
    "#         count = count + 1\n",
    "#     else:\n",
    "#         break\n",
    "\n",
    "# if(count>0):\n",
    "#     count = count - 1\n",
    "# print(\"last index : \",count,\"| value :\", invoice_1[count])"
   ]
  },
  {
   "cell_type": "code",
   "execution_count": 17,
   "metadata": {},
   "outputs": [],
   "source": [
    "def find_next_invoice_no(transactions_1):\n",
    "    \n",
    "    invoice_1 = transactions_1['Invoice']#.sort_values()\n",
    "    invoice_1 = sorted(invoice_1)\n",
    "    count = 0\n",
    "    for i in invoice_1:\n",
    "        if (i[0] == '1' or i[0] == '2' or i[0] == '3' or i[0] == '4' or i[0] == '5' or i[0] == '6' or i[0] == '7' or i[0] == '8' or i[0] == '9' or i[0] == '0' ):\n",
    "            count = count + 1\n",
    "        else:\n",
    "            break\n",
    "\n",
    "    if(count>0):\n",
    "        count = count - 1\n",
    "    print(\"last index : \",count,\"| value :\", invoice_1[count])\n",
    "    val = int(invoice_1[count])\n",
    "    print(\"next invoice number: \", val+1)\n",
    "    return str(val+1)\n",
    "    \n"
   ]
  },
  {
   "cell_type": "code",
   "execution_count": 33,
   "metadata": {},
   "outputs": [
    {
     "output_type": "stream",
     "name": "stdout",
     "text": [
      "last index :  397923 | value : 581587\n",
      "next invoice number:  581588\n",
      "last index :  805607 | value : 581587\n",
      "next invoice number:  581588\n"
     ]
    }
   ],
   "source": [
    "val_1 = find_next_invoice_no(transactions_1)\n",
    "val_2 = find_next_invoice_no(transactions_2)"
   ]
  },
  {
   "cell_type": "code",
   "execution_count": 3,
   "metadata": {},
   "outputs": [],
   "source": [
    "cursorObj = con.cursor()\n"
   ]
  },
  {
   "cell_type": "code",
   "execution_count": 10,
   "metadata": {},
   "outputs": [
    {
     "output_type": "stream",
     "name": "stdout",
     "text": [
      "2020-12-08 17:45:01\n"
     ]
    }
   ],
   "source": [
    "import datetime\n",
    "x = datetime.datetime.now().replace(microsecond = 0)\n",
    "print(x)"
   ]
  },
  {
   "cell_type": "code",
   "execution_count": 16,
   "metadata": {},
   "outputs": [],
   "source": [
    "sql = \"insert into transactions_1 values(?,?,?,?,?,?,?,?);\"\n",
    "details = ('1','1','1',1,datetime.datetime.now().replace(microsecond = 0),1,2,'ad')\n",
    "cursorObj.execute(sql, details)\n",
    "con.commit()"
   ]
  },
  {
   "cell_type": "code",
   "execution_count": 29,
   "metadata": {},
   "outputs": [],
   "source": [
    "def find_next_invoice_no(transactions_1):\n",
    "    \n",
    "    invoice_1 = transactions_1['Invoice']#.sort_values()\n",
    "    invoice_1 = sorted(invoice_1)\n",
    "    if(len(invoice_1) == 0):\n",
    "        return str(1)\n",
    "    count = 0\n",
    "    for i in invoice_1:\n",
    "        if (i[0] == '1' or i[0] == '2' or i[0] == '3' or i[0] == '4' or i[0] == '5' or i[0] == '6' or i[0] == '7' or i[0] == '8' or i[0] == '9' or i[0] == '0' ):\n",
    "            count = count + 1\n",
    "        else:\n",
    "            break\n",
    "\n",
    "    if(count>0):\n",
    "        count = count - 1\n",
    "    # print(\"last index : \",count,\"| value :\", invoice_1[count])\n",
    "    val = int(invoice_1[count])\n",
    "    # print(\"next invoice number: \", val+1)\n",
    "    return str(val+1)\n",
    "\n",
    "\n",
    "def update_store(retailer_id, stockcode, quantity, cursorObj, con):\n",
    "\n",
    "    sql = \"update store_\"+str(retailer_id)+\" set Quantity = Quantity - \"+str(quantity)+\" WHERE StockCode = ?\"\n",
    "    print(retailer_id, stockcode, quantity)\n",
    "    cursorObj.execute(sql, (stockcode,))\n",
    "    con.commit()\n",
    "    print('updated store data of retailer')\n",
    "\n",
    "    \n",
    "\n",
    "def insert_into_transactions(stockcode, description, quantity, price, country, customer_id, retailer_id, con, cursorObj):\n",
    "   \n",
    "    #name of retailor's transcations table\n",
    "    val = cursorObj.execute('select Transactions_table from retailor_data where retailor_id = ?', (retailer_id,))\n",
    "\n",
    "    transactions_table_name = val.fetchall()\n",
    "    transactions_table_name = transactions_table_name[0][0]\n",
    "    print(\"entered values in transactions_\" +  str(retailer_id))\n",
    "\n",
    "    #updating store_info of retailer\n",
    "    \n",
    "    sql = \"update store_\"+str(retailer_id)+\" set Quantity = Quantity - \"+str(quantity)+\" WHERE StockCode = ?\"\n",
    "    cursorObj.execute(sql, (stockcode,))\n",
    "    con.commit()\n",
    "    print('updated store data of retailer_'+str(retailer_id))\n",
    "\n",
    "\n",
    "    sql = \"insert into \"+str(transactions_table_name)+\" values(?,?,?,?,?,?,?,?);\"\n",
    "\n",
    "\n",
    "    query = \"select * from \" + transactions_table_name\n",
    "    #getting complete transaction table\n",
    "    transactions_table = pd.read_sql_query(query,con)\n",
    "    \n",
    "    #Getting invoice number\n",
    "    invoice = find_next_invoice_no(transactions_table)\n",
    "    timestamp =  datetime.datetime.now().replace(microsecond = 0)\n",
    "    \n",
    "    \n",
    "    details = (invoice, stockcode, description, quantity , timestamp, price, customer_id, country)\n",
    "    cursorObj.execute(sql, details)\n",
    "\n",
    "\n",
    "    #Entering in customer order\n",
    "    sql = \"insert into orders_\"+str(customer_id)+\" values(?,?,?,?,?,?,?);\"\n",
    "    details = (invoice, stockcode, description, quantity , timestamp, price, country)\n",
    "    cursorObj.execute(sql, details)\n",
    "    print(\"entered the placed order in order table of customer_\"+str(customer_id))\n",
    "    con.commit()\n",
    "\n",
    "    print('successfully completed transcation!')"
   ]
  },
  {
   "cell_type": "code",
   "execution_count": 30,
   "metadata": {},
   "outputs": [
    {
     "output_type": "stream",
     "name": "stdout",
     "text": [
      "entered values in transactions_1\n",
      "updated store data of retailer_1\n",
      "entered the placed order in order table of customer_12\n",
      "successfully completed transcation!\n"
     ]
    }
   ],
   "source": [
    "insert_into_transactions('85123A','WHITE HANGING HEART T-LIGHT HOLDER', 12, 2.55, 'United Kingdom', 12, 1, con, cursorObj)"
   ]
  },
  {
   "source": [
    "# updating customer and store info"
   ],
   "cell_type": "markdown",
   "metadata": {}
  },
  {
   "cell_type": "code",
   "execution_count": null,
   "metadata": {},
   "outputs": [],
   "source": [
    "def update_customer_order():"
   ]
  },
  {
   "cell_type": "code",
   "execution_count": 139,
   "metadata": {},
   "outputs": [
    {
     "output_type": "error",
     "ename": "OperationalError",
     "evalue": "database is locked",
     "traceback": [
      "\u001b[0;31m---------------------------------------------------------------------------\u001b[0m",
      "\u001b[0;31mOperationalError\u001b[0m                          Traceback (most recent call last)",
      "\u001b[0;32m<ipython-input-139-f4bc7250be82>\u001b[0m in \u001b[0;36m<module>\u001b[0;34m\u001b[0m\n\u001b[1;32m      1\u001b[0m \u001b[0mcursorObj\u001b[0m \u001b[0;34m=\u001b[0m \u001b[0mcon\u001b[0m\u001b[0;34m.\u001b[0m\u001b[0mcursor\u001b[0m\u001b[0;34m(\u001b[0m\u001b[0;34m)\u001b[0m\u001b[0;34m\u001b[0m\u001b[0;34m\u001b[0m\u001b[0m\n\u001b[1;32m      2\u001b[0m \u001b[0mq\u001b[0m \u001b[0;34m=\u001b[0m \u001b[0;34m\"select * from store_1 where StockCode = ?\"\u001b[0m\u001b[0;34m\u001b[0m\u001b[0;34m\u001b[0m\u001b[0m\n\u001b[0;32m----> 3\u001b[0;31m \u001b[0mcursorObj\u001b[0m\u001b[0;34m.\u001b[0m\u001b[0mexecute\u001b[0m\u001b[0;34m(\u001b[0m\u001b[0mq\u001b[0m\u001b[0;34m,\u001b[0m \u001b[0;34m(\u001b[0m\u001b[0;34m'85123A'\u001b[0m\u001b[0;34m,\u001b[0m\u001b[0;34m)\u001b[0m\u001b[0;34m)\u001b[0m\u001b[0;34m\u001b[0m\u001b[0;34m\u001b[0m\u001b[0m\n\u001b[0m\u001b[1;32m      4\u001b[0m \u001b[0mprint\u001b[0m\u001b[0;34m(\u001b[0m\u001b[0mcursorObj\u001b[0m\u001b[0;34m.\u001b[0m\u001b[0mfetchall\u001b[0m\u001b[0;34m(\u001b[0m\u001b[0;34m)\u001b[0m\u001b[0;34m)\u001b[0m\u001b[0;34m\u001b[0m\u001b[0;34m\u001b[0m\u001b[0m\n\u001b[1;32m      5\u001b[0m \u001b[0mcon\u001b[0m\u001b[0;34m.\u001b[0m\u001b[0mcommit\u001b[0m\u001b[0;34m(\u001b[0m\u001b[0;34m)\u001b[0m\u001b[0;34m\u001b[0m\u001b[0;34m\u001b[0m\u001b[0m\n",
      "\u001b[0;31mOperationalError\u001b[0m: database is locked"
     ]
    }
   ],
   "source": [
    "cursorObj = con.cursor()\n",
    "q = \"select * from store_1 where StockCode = ?\"\n",
    "cursorObj.execute(q, ('85123A',))\n",
    "print(cursorObj.fetchall())\n",
    "con.commit()\n",
    "print('updated store data of retailer')"
   ]
  },
  {
   "cell_type": "code",
   "execution_count": 4,
   "metadata": {},
   "outputs": [],
   "source": []
  },
  {
   "cell_type": "code",
   "execution_count": 137,
   "metadata": {},
   "outputs": [
    {
     "output_type": "stream",
     "text": [
      "\u001b[0;31mSignature:\u001b[0m\n",
      "\u001b[0minsert_into_transactions\u001b[0m\u001b[0;34m(\u001b[0m\u001b[0;34m\u001b[0m\n",
      "\u001b[0;34m\u001b[0m    \u001b[0mstockcode\u001b[0m\u001b[0;34m,\u001b[0m\u001b[0;34m\u001b[0m\n",
      "\u001b[0;34m\u001b[0m    \u001b[0mdescription\u001b[0m\u001b[0;34m,\u001b[0m\u001b[0;34m\u001b[0m\n",
      "\u001b[0;34m\u001b[0m    \u001b[0mquantity\u001b[0m\u001b[0;34m,\u001b[0m\u001b[0;34m\u001b[0m\n",
      "\u001b[0;34m\u001b[0m    \u001b[0mprice\u001b[0m\u001b[0;34m,\u001b[0m\u001b[0;34m\u001b[0m\n",
      "\u001b[0;34m\u001b[0m    \u001b[0mcountry\u001b[0m\u001b[0;34m,\u001b[0m\u001b[0;34m\u001b[0m\n",
      "\u001b[0;34m\u001b[0m    \u001b[0mcustomer_id\u001b[0m\u001b[0;34m,\u001b[0m\u001b[0;34m\u001b[0m\n",
      "\u001b[0;34m\u001b[0m    \u001b[0mretailer_id\u001b[0m\u001b[0;34m,\u001b[0m\u001b[0;34m\u001b[0m\n",
      "\u001b[0;34m\u001b[0m\u001b[0;34m)\u001b[0m\u001b[0;34m\u001b[0m\u001b[0;34m\u001b[0m\u001b[0m\n",
      "\u001b[0;31mDocstring:\u001b[0m <no docstring>\n",
      "\u001b[0;31mFile:\u001b[0m      ~/Desktop/Minor_project/database/create_manage/<ipython-input-134-f5a7832f914a>\n",
      "\u001b[0;31mType:\u001b[0m      function\n"
     ],
     "name": "stdout"
    }
   ],
   "source": [
    "insert_into_transactions?"
   ]
  },
  {
   "cell_type": "code",
   "execution_count": 13,
   "metadata": {},
   "outputs": [
    {
     "output_type": "stream",
     "name": "stdout",
     "text": [
      "transactions_1\n",
      "in first func  85123A\n",
      "1 85123A 12\n",
      "updated store data of retailer\n",
      "       Invoice StockCode                         Description  Quantity  \\\n",
      "406841  581597    85123A  WHITE HANGING HEART T-LIGHT HOLDER        12   \n",
      "406842  581598    85123A  WHITE HANGING HEART T-LIGHT HOLDER        12   \n",
      "406843  581599    85123A  WHITE HANGING HEART T-LIGHT HOLDER        12   \n",
      "406844  581600    85123A  WHITE HANGING HEART T-LIGHT HOLDER        12   \n",
      "406845  581601    85123A  WHITE HANGING HEART T-LIGHT HOLDER        12   \n",
      "\n",
      "                InvoiceDate  Price  Customer ID         Country  \n",
      "406841  2020-12-08 14:50:51   2.55          3.0  United Kingdom  \n",
      "406842  2020-12-08 14:55:29   2.55          3.0  United Kingdom  \n",
      "406843  2020-12-08 14:56:21   2.55          3.0  United Kingdom  \n",
      "406844  2020-12-08 14:56:57   2.55          3.0  United Kingdom  \n",
      "406845  2020-12-08 17:45:05   2.50          3.0  United Kingdom  \n",
      "last index :  397940 | value : 581601\n",
      "next invoice number:  581602\n",
      "successfully entered into transcations\n"
     ]
    }
   ],
   "source": [
    "insert_into_transactions('85123A','WHITE HANGING HEART T-LIGHT HOLDER', 12, 2.55, 'United Kingdom', 16, 1)"
   ]
  },
  {
   "cell_type": "code",
   "execution_count": 140,
   "metadata": {},
   "outputs": [],
   "source": [
    "con.close()"
   ]
  },
  {
   "cell_type": "code",
   "execution_count": null,
   "metadata": {},
   "outputs": [],
   "source": []
  }
 ]
}