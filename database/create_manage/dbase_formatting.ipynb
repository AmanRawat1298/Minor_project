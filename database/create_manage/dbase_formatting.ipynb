{
 "metadata": {
  "language_info": {
   "codemirror_mode": {
    "name": "ipython",
    "version": 3
   },
   "file_extension": ".py",
   "mimetype": "text/x-python",
   "name": "python",
   "nbconvert_exporter": "python",
   "pygments_lexer": "ipython3",
   "version": "3.8.5-final"
  },
  "orig_nbformat": 2,
  "kernelspec": {
   "name": "python3",
   "display_name": "Python 3",
   "language": "python"
  }
 },
 "nbformat": 4,
 "nbformat_minor": 2,
 "cells": [
  {
   "cell_type": "code",
   "execution_count": 78,
   "metadata": {},
   "outputs": [],
   "source": [
    "import sqlite3\n",
    "import pandas as pd"
   ]
  },
  {
   "cell_type": "code",
   "execution_count": 79,
   "metadata": {},
   "outputs": [],
   "source": [
    "con = sqlite3.connect('../new_data.db')"
   ]
  },
  {
   "cell_type": "code",
   "execution_count": 80,
   "metadata": {},
   "outputs": [],
   "source": [
    "# data = pd.read_sql('select * from transactions_1', dbase)\n",
    "# data.head()"
   ]
  },
  {
   "cell_type": "code",
   "execution_count": 97,
   "metadata": {},
   "outputs": [],
   "source": [
    "registered = pd.DataFrame(columns=['ID','Name','Email','Password', 'Type','PhoneNo'])"
   ]
  },
  {
   "cell_type": "code",
   "execution_count": 98,
   "metadata": {},
   "outputs": [],
   "source": [
    "registered = registered.append({'ID':1,  'Name':'Aman',  'Email':'aman.r1298@gmail.com', 'Password':'aman123',   'Type':'retailer',  'PhoneNo':'8810419775'},    ignore_index = True)\n",
    "registered = registered.append({'ID':2,  'Name':'Sonu',  'Email':'sonu@gmail.com',   'Password':'sonu123',   'Type':'retailer',  'PhoneNo':'8810419700'},    ignore_index = True)\n",
    "registered = registered.append({'ID':3,  'Name':'Aakash',  'Email':'aakash@gmail.com',   'Password':'aakash123',    'Type':'customer',    'PhoneNo':'1234567890'},    ignore_index = True)\n",
    "registered = registered.append({'ID':4,  'Name':'Ashutosh',  'Email':'ashutosh@gmail.com',   'Password':'ashutosh123',   'Type':'customer',  'PhoneNo':'9910419775'},    ignore_index = True)"
   ]
  },
  {
   "cell_type": "code",
   "execution_count": 99,
   "metadata": {},
   "outputs": [
    {
     "output_type": "execute_result",
     "data": {
      "text/plain": [
       "  ID      Name                 Email     Password      Type     PhoneNo\n",
       "0  1      Aman  aman.r1298@gmail.com      aman123  retailer  8810419775\n",
       "1  2      Sonu        sonu@gmail.com      sonu123  retailer  8810419700\n",
       "2  3    Aakash      aakash@gmail.com    aakash123  customer  1234567890\n",
       "3  4  Ashutosh    ashutosh@gmail.com  ashutosh123  customer  9910419775"
      ],
      "text/html": "<div>\n<style scoped>\n    .dataframe tbody tr th:only-of-type {\n        vertical-align: middle;\n    }\n\n    .dataframe tbody tr th {\n        vertical-align: top;\n    }\n\n    .dataframe thead th {\n        text-align: right;\n    }\n</style>\n<table border=\"1\" class=\"dataframe\">\n  <thead>\n    <tr style=\"text-align: right;\">\n      <th></th>\n      <th>ID</th>\n      <th>Name</th>\n      <th>Email</th>\n      <th>Password</th>\n      <th>Type</th>\n      <th>PhoneNo</th>\n    </tr>\n  </thead>\n  <tbody>\n    <tr>\n      <th>0</th>\n      <td>1</td>\n      <td>Aman</td>\n      <td>aman.r1298@gmail.com</td>\n      <td>aman123</td>\n      <td>retailer</td>\n      <td>8810419775</td>\n    </tr>\n    <tr>\n      <th>1</th>\n      <td>2</td>\n      <td>Sonu</td>\n      <td>sonu@gmail.com</td>\n      <td>sonu123</td>\n      <td>retailer</td>\n      <td>8810419700</td>\n    </tr>\n    <tr>\n      <th>2</th>\n      <td>3</td>\n      <td>Aakash</td>\n      <td>aakash@gmail.com</td>\n      <td>aakash123</td>\n      <td>customer</td>\n      <td>1234567890</td>\n    </tr>\n    <tr>\n      <th>3</th>\n      <td>4</td>\n      <td>Ashutosh</td>\n      <td>ashutosh@gmail.com</td>\n      <td>ashutosh123</td>\n      <td>customer</td>\n      <td>9910419775</td>\n    </tr>\n  </tbody>\n</table>\n</div>"
     },
     "metadata": {},
     "execution_count": 99
    }
   ],
   "source": [
    "registered"
   ]
  },
  {
   "cell_type": "code",
   "execution_count": 100,
   "metadata": {},
   "outputs": [
    {
     "output_type": "stream",
     "name": "stdout",
     "text": [
      "<class 'pandas.core.frame.DataFrame'>\nRangeIndex: 4 entries, 0 to 3\nData columns (total 6 columns):\n #   Column    Non-Null Count  Dtype \n---  ------    --------------  ----- \n 0   ID        4 non-null      object\n 1   Name      4 non-null      object\n 2   Email     4 non-null      object\n 3   Password  4 non-null      object\n 4   Type      4 non-null      object\n 5   PhoneNo   4 non-null      object\ndtypes: object(6)\nmemory usage: 320.0+ bytes\n"
     ]
    }
   ],
   "source": [
    "registered.info()"
   ]
  },
  {
   "cell_type": "code",
   "execution_count": 101,
   "metadata": {},
   "outputs": [],
   "source": [
    "registered.to_sql('registration_data', dbase)"
   ]
  },
  {
   "cell_type": "code",
   "execution_count": 109,
   "metadata": {},
   "outputs": [],
   "source": [
    "registered.to_csv('./registration_data/registration_data.csv', index=False)"
   ]
  },
  {
   "cell_type": "code",
   "execution_count": 102,
   "metadata": {},
   "outputs": [],
   "source": [
    "retailer = pd.DataFrame(columns=['retailor_id', 'Name', 'Store_table', 'Sales_table', 'Transactions_table'])"
   ]
  },
  {
   "cell_type": "code",
   "execution_count": 103,
   "metadata": {},
   "outputs": [],
   "source": [
    "retailer = retailer.append({'retailor_id':1,  'Name':'Aman',  'Store_table': 'store_1', 'Sales_table': 'sales_1' ,'Transactions_table' : 'transactions_1'},    ignore_index = True)\n",
    "retailer = retailer.append({'retailor_id':2,  'Name':'Sonu',  'Store_table': 'store_2', 'Sales_table': 'sales_2' , 'Transactions_table' : 'transactions_2'},    ignore_index = True)"
   ]
  },
  {
   "cell_type": "code",
   "execution_count": 108,
   "metadata": {},
   "outputs": [
    {
     "output_type": "execute_result",
     "data": {
      "text/plain": [
       "  retailor_id  Name Store_table Sales_table Transactions_table\n",
       "0           1  Aman     store_1     sales_1     transactions_1\n",
       "1           2  Sonu     store_2     sales_2     transactions_2"
      ],
      "text/html": "<div>\n<style scoped>\n    .dataframe tbody tr th:only-of-type {\n        vertical-align: middle;\n    }\n\n    .dataframe tbody tr th {\n        vertical-align: top;\n    }\n\n    .dataframe thead th {\n        text-align: right;\n    }\n</style>\n<table border=\"1\" class=\"dataframe\">\n  <thead>\n    <tr style=\"text-align: right;\">\n      <th></th>\n      <th>retailor_id</th>\n      <th>Name</th>\n      <th>Store_table</th>\n      <th>Sales_table</th>\n      <th>Transactions_table</th>\n    </tr>\n  </thead>\n  <tbody>\n    <tr>\n      <th>0</th>\n      <td>1</td>\n      <td>Aman</td>\n      <td>store_1</td>\n      <td>sales_1</td>\n      <td>transactions_1</td>\n    </tr>\n    <tr>\n      <th>1</th>\n      <td>2</td>\n      <td>Sonu</td>\n      <td>store_2</td>\n      <td>sales_2</td>\n      <td>transactions_2</td>\n    </tr>\n  </tbody>\n</table>\n</div>"
     },
     "metadata": {},
     "execution_count": 108
    }
   ],
   "source": [
    "retailer"
   ]
  },
  {
   "cell_type": "code",
   "execution_count": 105,
   "metadata": {},
   "outputs": [],
   "source": [
    "retailer.to_sql('retailor_data', dbase)"
   ]
  },
  {
   "cell_type": "code",
   "execution_count": 111,
   "metadata": {},
   "outputs": [],
   "source": [
    "retailer.to_csv('./retailer/retailer_data.csv', index=False)"
   ]
  },
  {
   "source": [
    "# Updating dates to 9 years+\n"
   ],
   "cell_type": "markdown",
   "metadata": {}
  },
  {
   "cell_type": "code",
   "execution_count": 69,
   "metadata": {},
   "outputs": [],
   "source": [
    "cursorObj = con.cursor()"
   ]
  },
  {
   "cell_type": "code",
   "execution_count": 81,
   "metadata": {},
   "outputs": [],
   "source": [
    "transactions = pd.read_sql_query('select * from transactions_1', con)\n",
    "transactions2 = pd.read_sql_query('select * from transactions_2', con)\n"
   ]
  },
  {
   "cell_type": "code",
   "execution_count": 83,
   "metadata": {},
   "outputs": [
    {
     "output_type": "execute_result",
     "data": {
      "text/plain": [
       "       Invoice StockCode                      Description  Quantity  \\\n",
       "824343  581587     22899     CHILDREN'S APRON DOLLY GIRL          6   \n",
       "824344  581587     23254    CHILDRENS CUTLERY DOLLY GIRL          4   \n",
       "824345  581587     23255  CHILDRENS CUTLERY CIRCUS PARADE         4   \n",
       "824346  581587     22138    BAKING SET 9 PIECE RETROSPOT          3   \n",
       "824347  581587      POST                          POSTAGE         1   \n",
       "\n",
       "                InvoiceDate  Price  Customer ID Country  \n",
       "824343  2011-12-09 12:50:00   2.10      12680.0  France  \n",
       "824344  2011-12-09 12:50:00   4.15      12680.0  France  \n",
       "824345  2011-12-09 12:50:00   4.15      12680.0  France  \n",
       "824346  2011-12-09 12:50:00   4.95      12680.0  France  \n",
       "824347  2011-12-09 12:50:00  18.00      12680.0  France  "
      ],
      "text/html": "<div>\n<style scoped>\n    .dataframe tbody tr th:only-of-type {\n        vertical-align: middle;\n    }\n\n    .dataframe tbody tr th {\n        vertical-align: top;\n    }\n\n    .dataframe thead th {\n        text-align: right;\n    }\n</style>\n<table border=\"1\" class=\"dataframe\">\n  <thead>\n    <tr style=\"text-align: right;\">\n      <th></th>\n      <th>Invoice</th>\n      <th>StockCode</th>\n      <th>Description</th>\n      <th>Quantity</th>\n      <th>InvoiceDate</th>\n      <th>Price</th>\n      <th>Customer ID</th>\n      <th>Country</th>\n    </tr>\n  </thead>\n  <tbody>\n    <tr>\n      <th>824343</th>\n      <td>581587</td>\n      <td>22899</td>\n      <td>CHILDREN'S APRON DOLLY GIRL</td>\n      <td>6</td>\n      <td>2011-12-09 12:50:00</td>\n      <td>2.10</td>\n      <td>12680.0</td>\n      <td>France</td>\n    </tr>\n    <tr>\n      <th>824344</th>\n      <td>581587</td>\n      <td>23254</td>\n      <td>CHILDRENS CUTLERY DOLLY GIRL</td>\n      <td>4</td>\n      <td>2011-12-09 12:50:00</td>\n      <td>4.15</td>\n      <td>12680.0</td>\n      <td>France</td>\n    </tr>\n    <tr>\n      <th>824345</th>\n      <td>581587</td>\n      <td>23255</td>\n      <td>CHILDRENS CUTLERY CIRCUS PARADE</td>\n      <td>4</td>\n      <td>2011-12-09 12:50:00</td>\n      <td>4.15</td>\n      <td>12680.0</td>\n      <td>France</td>\n    </tr>\n    <tr>\n      <th>824346</th>\n      <td>581587</td>\n      <td>22138</td>\n      <td>BAKING SET 9 PIECE RETROSPOT</td>\n      <td>3</td>\n      <td>2011-12-09 12:50:00</td>\n      <td>4.95</td>\n      <td>12680.0</td>\n      <td>France</td>\n    </tr>\n    <tr>\n      <th>824347</th>\n      <td>581587</td>\n      <td>POST</td>\n      <td>POSTAGE</td>\n      <td>1</td>\n      <td>2011-12-09 12:50:00</td>\n      <td>18.00</td>\n      <td>12680.0</td>\n      <td>France</td>\n    </tr>\n  </tbody>\n</table>\n</div>"
     },
     "metadata": {},
     "execution_count": 83
    }
   ],
   "source": [
    "transactions2.tail()"
   ]
  },
  {
   "cell_type": "code",
   "execution_count": 72,
   "metadata": {},
   "outputs": [
    {
     "output_type": "execute_result",
     "data": {
      "text/plain": [
       "20486"
      ]
     },
     "metadata": {},
     "execution_count": 72
    }
   ],
   "source": [
    "len(transactions['InvoiceDate'].unique())"
   ]
  },
  {
   "cell_type": "code",
   "execution_count": 24,
   "metadata": {},
   "outputs": [
    {
     "output_type": "error",
     "ename": "OperationalError",
     "evalue": "near \"9\": syntax error",
     "traceback": [
      "\u001b[0;31m---------------------------------------------------------------------------\u001b[0m",
      "\u001b[0;31mOperationalError\u001b[0m                          Traceback (most recent call last)",
      "\u001b[0;32m<ipython-input-24-942c30ec2f12>\u001b[0m in \u001b[0;36m<module>\u001b[0;34m\u001b[0m\n\u001b[0;32m----> 1\u001b[0;31m \u001b[0mcursorObj\u001b[0m\u001b[0;34m.\u001b[0m\u001b[0mexecute\u001b[0m\u001b[0;34m(\u001b[0m\u001b[0;34m'''update transactions_1 set InvoiceDate = ADDDATE(InvoiceDate, INTERVAL 9 YEAR)'''\u001b[0m\u001b[0;34m,\u001b[0m\u001b[0mcon\u001b[0m\u001b[0;34m)\u001b[0m\u001b[0;34m\u001b[0m\u001b[0;34m\u001b[0m\u001b[0m\n\u001b[0m",
      "\u001b[0;31mOperationalError\u001b[0m: near \"9\": syntax error"
     ]
    }
   ],
   "source": []
  },
  {
   "cell_type": "code",
   "execution_count": 73,
   "metadata": {},
   "outputs": [],
   "source": [
    "# sql = \"update transactions_1 set InvoiceDate = REPLACE(InvoiceDate,'2010','2019')\"\n",
    "# cursorObj.execute(sql, con)"
   ]
  },
  {
   "cell_type": "code",
   "execution_count": 74,
   "metadata": {},
   "outputs": [
    {
     "output_type": "stream",
     "name": "stdout",
     "text": [
      "<class 'pandas.core.frame.DataFrame'>\nRangeIndex: 406855 entries, 0 to 406854\nData columns (total 8 columns):\n #   Column       Non-Null Count   Dtype  \n---  ------       --------------   -----  \n 0   Invoice      406855 non-null  object \n 1   StockCode    406855 non-null  object \n 2   Description  406855 non-null  object \n 3   Quantity     406855 non-null  int64  \n 4   InvoiceDate  406855 non-null  object \n 5   Price        406855 non-null  float64\n 6   Customer ID  406855 non-null  float64\n 7   Country      406855 non-null  object \ndtypes: float64(2), int64(1), object(5)\nmemory usage: 24.8+ MB\n"
     ]
    }
   ],
   "source": [
    "transactions.info()"
   ]
  },
  {
   "cell_type": "code",
   "execution_count": 84,
   "metadata": {},
   "outputs": [],
   "source": [
    "transactions[\"InvoiceDate\"] = pd.to_datetime(transactions[\"InvoiceDate\"])\n",
    "transactions2[\"InvoiceDate\"] = pd.to_datetime(transactions2[\"InvoiceDate\"])"
   ]
  },
  {
   "cell_type": "code",
   "execution_count": 85,
   "metadata": {},
   "outputs": [],
   "source": [
    "transactions['InvoiceDate'] = transactions['InvoiceDate']+pd.Timedelta(days=9*365)\n",
    "transactions2['InvoiceDate'] = transactions2['InvoiceDate']+pd.Timedelta(days=9*365)"
   ]
  },
  {
   "cell_type": "code",
   "execution_count": 88,
   "metadata": {},
   "outputs": [
    {
     "output_type": "execute_result",
     "data": {
      "text/plain": [
       "824343   2020-12-06 12:50:00\n",
       "824344   2020-12-06 12:50:00\n",
       "824345   2020-12-06 12:50:00\n",
       "824346   2020-12-06 12:50:00\n",
       "824347   2020-12-06 12:50:00\n",
       "Name: InvoiceDate, dtype: datetime64[ns]"
      ]
     },
     "metadata": {},
     "execution_count": 88
    }
   ],
   "source": [
    "transactions2['InvoiceDate'].tail()"
   ]
  },
  {
   "cell_type": "code",
   "execution_count": 90,
   "metadata": {},
   "outputs": [
    {
     "output_type": "stream",
     "name": "stdout",
     "text": [
      "<class 'pandas.core.frame.DataFrame'>\nRangeIndex: 406829 entries, 0 to 406828\nData columns (total 8 columns):\n #   Column       Non-Null Count   Dtype         \n---  ------       --------------   -----         \n 0   Invoice      406829 non-null  object        \n 1   StockCode    406829 non-null  object        \n 2   Description  406829 non-null  object        \n 3   Quantity     406829 non-null  int64         \n 4   InvoiceDate  406829 non-null  datetime64[ns]\n 5   Price        406829 non-null  float64       \n 6   Customer ID  406829 non-null  float64       \n 7   Country      406829 non-null  object        \ndtypes: datetime64[ns](1), float64(2), int64(1), object(4)\nmemory usage: 24.8+ MB\n"
     ]
    }
   ],
   "source": [
    "transactions.info()"
   ]
  },
  {
   "cell_type": "code",
   "execution_count": 91,
   "metadata": {},
   "outputs": [],
   "source": [
    "transactions.to_sql('transactions_1', con, if_exists='replace')"
   ]
  },
  {
   "cell_type": "code",
   "execution_count": 93,
   "metadata": {},
   "outputs": [
    {
     "output_type": "stream",
     "name": "stdout",
     "text": [
      "<class 'pandas.core.frame.DataFrame'>\nRangeIndex: 824348 entries, 0 to 824347\nData columns (total 8 columns):\n #   Column       Non-Null Count   Dtype         \n---  ------       --------------   -----         \n 0   Invoice      824348 non-null  object        \n 1   StockCode    824348 non-null  object        \n 2   Description  824348 non-null  object        \n 3   Quantity     824348 non-null  int64         \n 4   InvoiceDate  824348 non-null  datetime64[ns]\n 5   Price        824348 non-null  float64       \n 6   Customer ID  824348 non-null  float64       \n 7   Country      824348 non-null  object        \ndtypes: datetime64[ns](1), float64(2), int64(1), object(4)\nmemory usage: 50.3+ MB\n"
     ]
    }
   ],
   "source": [
    "transactions2.info()"
   ]
  },
  {
   "cell_type": "code",
   "execution_count": 94,
   "metadata": {},
   "outputs": [],
   "source": [
    "transactions2.to_sql('transactions_2', con, if_exists='replace')"
   ]
  },
  {
   "cell_type": "code",
   "execution_count": null,
   "metadata": {},
   "outputs": [],
   "source": []
  }
 ]
}