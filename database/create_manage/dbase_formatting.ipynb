{
 "metadata": {
  "language_info": {
   "codemirror_mode": {
    "name": "ipython",
    "version": 3
   },
   "file_extension": ".py",
   "mimetype": "text/x-python",
   "name": "python",
   "nbconvert_exporter": "python",
   "pygments_lexer": "ipython3",
   "version": "3.8.5-final"
  },
  "orig_nbformat": 2,
  "kernelspec": {
   "name": "python3",
   "display_name": "Python 3"
  }
 },
 "nbformat": 4,
 "nbformat_minor": 2,
 "cells": [
  {
   "cell_type": "code",
   "execution_count": 94,
   "metadata": {},
   "outputs": [],
   "source": [
    "import sqlite3\n",
    "import pandas as pd"
   ]
  },
  {
   "cell_type": "code",
   "execution_count": 95,
   "metadata": {},
   "outputs": [],
   "source": [
    "dbase = sqlite3.connect('new_data.db')"
   ]
  },
  {
   "cell_type": "code",
   "execution_count": 96,
   "metadata": {},
   "outputs": [],
   "source": [
    "# data = pd.read_sql('select * from transactions_1', dbase)\n",
    "# data.head()"
   ]
  },
  {
   "cell_type": "code",
   "execution_count": 97,
   "metadata": {},
   "outputs": [],
   "source": [
    "registered = pd.DataFrame(columns=['ID','Name','Email','Password', 'Type','PhoneNo'])"
   ]
  },
  {
   "cell_type": "code",
   "execution_count": 98,
   "metadata": {},
   "outputs": [],
   "source": [
    "registered = registered.append({'ID':1,  'Name':'Aman',  'Email':'aman.r1298@gmail.com', 'Password':'aman123',   'Type':'retailer',  'PhoneNo':'8810419775'},    ignore_index = True)\n",
    "registered = registered.append({'ID':2,  'Name':'Sonu',  'Email':'sonu@gmail.com',   'Password':'sonu123',   'Type':'retailer',  'PhoneNo':'8810419700'},    ignore_index = True)\n",
    "registered = registered.append({'ID':3,  'Name':'Aakash',  'Email':'aakash@gmail.com',   'Password':'aakash123',    'Type':'customer',    'PhoneNo':'1234567890'},    ignore_index = True)\n",
    "registered = registered.append({'ID':4,  'Name':'Ashutosh',  'Email':'ashutosh@gmail.com',   'Password':'ashutosh123',   'Type':'customer',  'PhoneNo':'9910419775'},    ignore_index = True)"
   ]
  },
  {
   "cell_type": "code",
   "execution_count": 99,
   "metadata": {},
   "outputs": [
    {
     "output_type": "execute_result",
     "data": {
      "text/plain": [
       "  ID      Name                 Email     Password      Type     PhoneNo\n",
       "0  1      Aman  aman.r1298@gmail.com      aman123  retailer  8810419775\n",
       "1  2      Sonu        sonu@gmail.com      sonu123  retailer  8810419700\n",
       "2  3    Aakash      aakash@gmail.com    aakash123  customer  1234567890\n",
       "3  4  Ashutosh    ashutosh@gmail.com  ashutosh123  customer  9910419775"
      ],
      "text/html": "<div>\n<style scoped>\n    .dataframe tbody tr th:only-of-type {\n        vertical-align: middle;\n    }\n\n    .dataframe tbody tr th {\n        vertical-align: top;\n    }\n\n    .dataframe thead th {\n        text-align: right;\n    }\n</style>\n<table border=\"1\" class=\"dataframe\">\n  <thead>\n    <tr style=\"text-align: right;\">\n      <th></th>\n      <th>ID</th>\n      <th>Name</th>\n      <th>Email</th>\n      <th>Password</th>\n      <th>Type</th>\n      <th>PhoneNo</th>\n    </tr>\n  </thead>\n  <tbody>\n    <tr>\n      <th>0</th>\n      <td>1</td>\n      <td>Aman</td>\n      <td>aman.r1298@gmail.com</td>\n      <td>aman123</td>\n      <td>retailer</td>\n      <td>8810419775</td>\n    </tr>\n    <tr>\n      <th>1</th>\n      <td>2</td>\n      <td>Sonu</td>\n      <td>sonu@gmail.com</td>\n      <td>sonu123</td>\n      <td>retailer</td>\n      <td>8810419700</td>\n    </tr>\n    <tr>\n      <th>2</th>\n      <td>3</td>\n      <td>Aakash</td>\n      <td>aakash@gmail.com</td>\n      <td>aakash123</td>\n      <td>customer</td>\n      <td>1234567890</td>\n    </tr>\n    <tr>\n      <th>3</th>\n      <td>4</td>\n      <td>Ashutosh</td>\n      <td>ashutosh@gmail.com</td>\n      <td>ashutosh123</td>\n      <td>customer</td>\n      <td>9910419775</td>\n    </tr>\n  </tbody>\n</table>\n</div>"
     },
     "metadata": {},
     "execution_count": 99
    }
   ],
   "source": [
    "registered"
   ]
  },
  {
   "cell_type": "code",
   "execution_count": 100,
   "metadata": {},
   "outputs": [
    {
     "output_type": "stream",
     "name": "stdout",
     "text": [
      "<class 'pandas.core.frame.DataFrame'>\nRangeIndex: 4 entries, 0 to 3\nData columns (total 6 columns):\n #   Column    Non-Null Count  Dtype \n---  ------    --------------  ----- \n 0   ID        4 non-null      object\n 1   Name      4 non-null      object\n 2   Email     4 non-null      object\n 3   Password  4 non-null      object\n 4   Type      4 non-null      object\n 5   PhoneNo   4 non-null      object\ndtypes: object(6)\nmemory usage: 320.0+ bytes\n"
     ]
    }
   ],
   "source": [
    "registered.info()"
   ]
  },
  {
   "cell_type": "code",
   "execution_count": 101,
   "metadata": {},
   "outputs": [],
   "source": [
    "registered.to_sql('registration_data', dbase)"
   ]
  },
  {
   "cell_type": "code",
   "execution_count": 109,
   "metadata": {},
   "outputs": [],
   "source": [
    "registered.to_csv('./registration_data/registration_data.csv', index=False)"
   ]
  },
  {
   "cell_type": "code",
   "execution_count": 102,
   "metadata": {},
   "outputs": [],
   "source": [
    "retailer = pd.DataFrame(columns=['retailor_id', 'Name', 'Store_table', 'Sales_table', 'Transactions_table'])"
   ]
  },
  {
   "cell_type": "code",
   "execution_count": 103,
   "metadata": {},
   "outputs": [],
   "source": [
    "retailer = retailer.append({'retailor_id':1,  'Name':'Aman',  'Store_table': 'store_1', 'Sales_table': 'sales_1' ,'Transactions_table' : 'transactions_1'},    ignore_index = True)\n",
    "retailer = retailer.append({'retailor_id':2,  'Name':'Sonu',  'Store_table': 'store_2', 'Sales_table': 'sales_2' , 'Transactions_table' : 'transactions_2'},    ignore_index = True)"
   ]
  },
  {
   "cell_type": "code",
   "execution_count": 108,
   "metadata": {},
   "outputs": [
    {
     "output_type": "execute_result",
     "data": {
      "text/plain": [
       "  retailor_id  Name Store_table Sales_table Transactions_table\n",
       "0           1  Aman     store_1     sales_1     transactions_1\n",
       "1           2  Sonu     store_2     sales_2     transactions_2"
      ],
      "text/html": "<div>\n<style scoped>\n    .dataframe tbody tr th:only-of-type {\n        vertical-align: middle;\n    }\n\n    .dataframe tbody tr th {\n        vertical-align: top;\n    }\n\n    .dataframe thead th {\n        text-align: right;\n    }\n</style>\n<table border=\"1\" class=\"dataframe\">\n  <thead>\n    <tr style=\"text-align: right;\">\n      <th></th>\n      <th>retailor_id</th>\n      <th>Name</th>\n      <th>Store_table</th>\n      <th>Sales_table</th>\n      <th>Transactions_table</th>\n    </tr>\n  </thead>\n  <tbody>\n    <tr>\n      <th>0</th>\n      <td>1</td>\n      <td>Aman</td>\n      <td>store_1</td>\n      <td>sales_1</td>\n      <td>transactions_1</td>\n    </tr>\n    <tr>\n      <th>1</th>\n      <td>2</td>\n      <td>Sonu</td>\n      <td>store_2</td>\n      <td>sales_2</td>\n      <td>transactions_2</td>\n    </tr>\n  </tbody>\n</table>\n</div>"
     },
     "metadata": {},
     "execution_count": 108
    }
   ],
   "source": [
    "retailer"
   ]
  },
  {
   "cell_type": "code",
   "execution_count": 105,
   "metadata": {},
   "outputs": [],
   "source": [
    "retailer.to_sql('retailor_data', dbase)"
   ]
  },
  {
   "cell_type": "code",
   "execution_count": 111,
   "metadata": {},
   "outputs": [],
   "source": [
    "retailer.to_csv('./retailer/retailer_data.csv', index=False)"
   ]
  },
  {
   "cell_type": "code",
   "execution_count": null,
   "metadata": {},
   "outputs": [],
   "source": []
  }
 ]
}