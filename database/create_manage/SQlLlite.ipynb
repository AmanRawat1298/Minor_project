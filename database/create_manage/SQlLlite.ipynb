{
 "cells": [
  {
   "cell_type": "code",
   "execution_count": 62,
   "metadata": {},
   "outputs": [],
   "source": [
    "import sqlite3\n",
    "import pandas as pd\n",
    "import numpy as np\n",
    "\n",
    "import matplotlib.pyplot as plt"
   ]
  },
  {
   "cell_type": "code",
   "execution_count": 29,
   "metadata": {},
   "outputs": [],
   "source": [
    "# dbase = sqlite3.connect('Our_data.db') \n"
   ]
  },
  {
   "cell_type": "code",
   "execution_count": 30,
   "metadata": {},
   "outputs": [],
   "source": [
    "# def insert_record(ID, NAME, DIVISION, STARS):\n",
    "#     dbase.execute('''INSERT INTO employee_records VALUES (?,?,?,?)''', (ID, NAME, DIVISION, STARS))\n",
    "#     dbase.commit()\n",
    "# def read_data(table):\n",
    "#     # can use dbase.execute but cursor is faster\n",
    "#     cursor = dbase.cursor()\n",
    "#     val = cursor.execute('''SELECT * FROM ''' + str(table))\n",
    "#     x = val.fetchall()\n",
    "# #     print(x)\n",
    "#     for i in x:\n",
    "#         print(i)\n",
    "# #     for i in val:\n",
    "# #         print(\"\\n\\nID \\t\\t: \" + str(i[0]))\n",
    "# #         print(\"Name \\t\\t: \" + str(i[1]))\n",
    "# #         print(\"Division \\t: \" + str(i[2]))\n",
    "# #         print(\"Star \\t\\t: \" + str(i[3]))\n",
    "    \n",
    "# #     for i in x:\n",
    "# #         print(\"\\n\\nID \\t\\t: \" + str(i[0]))\n",
    "# #         print(\"Name \\t\\t: \" + str(i[1]))\n",
    "# #         print(\"Division \\t: \" + str(i[2]))\n",
    "# #         print(\"Star \\t\\t: \" + str(i[3]))\n",
    "    "
   ]
  },
  {
   "cell_type": "code",
   "execution_count": 31,
   "metadata": {},
   "outputs": [],
   "source": [
    "# dbase.execute('''CREATE TABLE IF NOT EXISTS employee_records (\n",
    "#     ID INT PRIMARY KEY NOT NULL ,\n",
    "#     Name TEXT NOT NULL ,\n",
    "#     Division TEXT NOT NULL,\n",
    "#     Star INT NOT NULL\n",
    "# )''')"
   ]
  },
  {
   "cell_type": "code",
   "execution_count": 32,
   "metadata": {},
   "outputs": [],
   "source": [
    "# insert_record(2, 'Karan', 'Mechanical', 4)"
   ]
  },
  {
   "cell_type": "code",
   "execution_count": 56,
   "metadata": {},
   "outputs": [],
   "source": [
    "# insert_record(1, 'Aman', 'IT', 4)"
   ]
  },
  {
   "cell_type": "code",
   "execution_count": 58,
   "metadata": {},
   "outputs": [],
   "source": [
    "# read_data('employee_records')"
   ]
  },
  {
   "cell_type": "code",
   "execution_count": 59,
   "metadata": {},
   "outputs": [],
   "source": [
    "# dbase.close()"
   ]
  },
  {
   "cell_type": "code",
   "execution_count": null,
   "metadata": {},
   "outputs": [],
   "source": []
  },
  {
   "cell_type": "markdown",
   "metadata": {},
   "source": [
    "## Reading a csv file and inserting it into db\n"
   ]
  },
  {
   "cell_type": "code",
   "execution_count": 15,
   "metadata": {},
   "outputs": [],
   "source": [
    "# data = pd.read_csv(\"train.csv\")"
   ]
  },
  {
   "cell_type": "code",
   "execution_count": 14,
   "metadata": {},
   "outputs": [],
   "source": [
    "# data.columns"
   ]
  },
  {
   "cell_type": "code",
   "execution_count": 13,
   "metadata": {},
   "outputs": [],
   "source": [
    "# data.head()"
   ]
  },
  {
   "cell_type": "code",
   "execution_count": 12,
   "metadata": {},
   "outputs": [],
   "source": [
    "# dbase.execute('''DROP table titanic''')"
   ]
  },
  {
   "cell_type": "code",
   "execution_count": 11,
   "metadata": {},
   "outputs": [],
   "source": [
    "# dbase.execute('''CREATE TABLE IF NOT EXISTS titanic (\n",
    "#     PassengerId INT PRIMARY KEY NOT NULL ,\n",
    "#     Survived INT ,\n",
    "#     Pclass INT,\n",
    "#     Name TEXT ,\n",
    "#     Sex TEXT ,\n",
    "#     Age FLOAT,\n",
    "#     SibSp INT, \n",
    "#     Parch INT,\n",
    "#     Ticket TEXT ,\n",
    "#     Fare FLOAT,\n",
    "#     Cabin TEXT  ,\n",
    "#     Embarked TEXT \n",
    "# )''')"
   ]
  },
  {
   "cell_type": "code",
   "execution_count": 68,
   "metadata": {},
   "outputs": [],
   "source": [
    "# data.to_sql('titanic', dbase, if_exists='append', index=False)"
   ]
  },
  {
   "cell_type": "code",
   "execution_count": 69,
   "metadata": {},
   "outputs": [],
   "source": [
    "# dbase.execute('''select * from titanic''')"
   ]
  },
  {
   "cell_type": "code",
   "execution_count": 70,
   "metadata": {},
   "outputs": [],
   "source": [
    "# import csv\n",
    "# cur = dbase.cursor()"
   ]
  },
  {
   "cell_type": "code",
   "execution_count": 71,
   "metadata": {},
   "outputs": [],
   "source": [
    "# rows = csv.reader(data)"
   ]
  },
  {
   "cell_type": "code",
   "execution_count": 72,
   "metadata": {},
   "outputs": [],
   "source": [
    "# rows"
   ]
  },
  {
   "cell_type": "code",
   "execution_count": 73,
   "metadata": {},
   "outputs": [],
   "source": [
    "# cur.executemany(\"INSERT INTO titanic VALUES (?,?,?,?,?,?,?,?,?,?,?,?)\", [rows] )"
   ]
  },
  {
   "cell_type": "code",
   "execution_count": 74,
   "metadata": {},
   "outputs": [],
   "source": [
    "# cur.execute(\"SELECT * FROM titanic\")\n",
    "# print(cur.fetchall())\n"
   ]
  },
  {
   "cell_type": "code",
   "execution_count": 75,
   "metadata": {},
   "outputs": [],
   "source": [
    "# read_data('titanic')\n"
   ]
  },
  {
   "cell_type": "code",
   "execution_count": 45,
   "metadata": {},
   "outputs": [],
   "source": [
    "# import csv\n",
    "# cur = dbase.cursor()\n",
    "# rows = csv.reader(data)\n",
    "# cur.executemany(\"INSERT INTO titanic VALUES (?,?,?,?,?,?,?,?,?,?,?,?)\", [rows] )\n",
    "# cur.execute(\"SELECT * FROM titanic\")\n",
    "# print(cur.fetchall())\n"
   ]
  },
  {
   "cell_type": "code",
   "execution_count": null,
   "metadata": {},
   "outputs": [],
   "source": []
  },
  {
   "cell_type": "code",
   "execution_count": null,
   "metadata": {},
   "outputs": [],
   "source": []
  },
  {
   "cell_type": "markdown",
   "metadata": {},
   "source": [
    "## HELPER FUNCTION"
   ]
  },
  {
   "cell_type": "code",
   "execution_count": 8,
   "metadata": {},
   "outputs": [],
   "source": [
    "def insert_record(table_name, values):\n",
    "#     d = [(1,'Aman','8586096103', 'aman.r1298@gmail.com', 'aman'),(2, 'Karan', '1234567890', 'karan12@gmail.com', 'kiru')]\n",
    "    if(table_name == 'retailer_data'):\n",
    "        d = []\n",
    "        for val in values:\n",
    "            d.append((val))\n",
    "    #     d = [(1),('Aman'),('8586096103'), ('aman.r1298@gmail.com'), ('aman')]\n",
    "\n",
    "        print(d)\n",
    "\n",
    "        dbase.executemany('''INSERT INTO ''' +str(table_name) + '''(r_name, r_ph_no, r_login_id, r_password) VALUES (?,?,?,?)''', d )\n",
    "    #     dbase.execute('''INSERT INTO employee_records VALUES (?,?,?,?)''', (ID, NAME, DIVISION, STARS))\n",
    "        dbase.commit()\n",
    "    elif(table_name == 'customer_data'):\n",
    "        d = []\n",
    "        for val in values:\n",
    "            d.append((val))\n",
    "        print(d)\n",
    "        dbase.executemany('''INSERT INTO ''' +str(table_name) + '''(c_name, c_ph_no, c_login_id, c_password) VALUES (?,?,?,?)''', d )\n",
    "        dbase.commit()"
   ]
  },
  {
   "cell_type": "code",
   "execution_count": null,
   "metadata": {},
   "outputs": [],
   "source": []
  },
  {
   "cell_type": "code",
   "execution_count": null,
   "metadata": {},
   "outputs": [],
   "source": []
  },
  {
   "cell_type": "markdown",
   "metadata": {},
   "source": [
    "# database schema\n"
   ]
  },
  {
   "cell_type": "code",
   "execution_count": 63,
   "metadata": {},
   "outputs": [],
   "source": [
    "dbase = sqlite3.connect('new_data.db') "
   ]
  },
  {
   "cell_type": "markdown",
   "metadata": {},
   "source": [
    "## retailerData"
   ]
  },
  {
   "cell_type": "code",
   "execution_count": 10,
   "metadata": {},
   "outputs": [
    {
     "data": {
      "text/plain": [
       "<sqlite3.Cursor at 0x7f445ba9d110>"
      ]
     },
     "execution_count": 10,
     "metadata": {},
     "output_type": "execute_result"
    }
   ],
   "source": [
    "dbase.execute('''create table if not exists retailer_data(\n",
    "r_id integer primary key,\n",
    "r_name  TEXT NOT_NULL,\n",
    "r_ph_no TEXT,\n",
    "r_login_id TEXT,\n",
    "r_password TEXT\n",
    ") ''')"
   ]
  },
  {
   "cell_type": "code",
   "execution_count": 11,
   "metadata": {},
   "outputs": [
    {
     "name": "stdout",
     "output_type": "stream",
     "text": [
      "[('aman', '8586096103', 'aman.r1298@gmail.com', 'aman1298'), ('karan', '1234567890', 'karan@gmail.com', 'kiru1298'), ('Rohan', '9876543210', 'rohan@gmail.com', 'rohan123')]\n"
     ]
    }
   ],
   "source": [
    "#inserting values\n",
    "l = [ ('aman', '8586096103', 'aman.r1298@gmail.com', 'aman1298'),('karan', '1234567890', 'karan@gmail.com', 'kiru1298'), ('Rohan', '9876543210', 'rohan@gmail.com', 'rohan123') ]\n",
    "insert_record('retailer_data',l)\n",
    "# l = [ 'karan', '1234567890', 'karan@gmail.com', 'kiru1298']\n",
    "# insert_record('retailer_data', l)"
   ]
  },
  {
   "cell_type": "markdown",
   "metadata": {},
   "source": [
    "### view table"
   ]
  },
  {
   "cell_type": "code",
   "execution_count": 12,
   "metadata": {},
   "outputs": [
    {
     "name": "stdout",
     "output_type": "stream",
     "text": [
      "<sqlite3.Cursor object at 0x7f445ba9d500>\n",
      "[(1, 'aman', '8586096103', 'aman.r1298@gmail.com', 'aman1298'), (2, 'karan', '1234567890', 'karan@gmail.com', 'kiru1298'), (3, 'Rohan', '9876543210', 'rohan@gmail.com', 'rohan123')]\n"
     ]
    }
   ],
   "source": [
    "cur = dbase.cursor()\n",
    "cur.execute('''select * from retailer_data''')\n",
    "print(cur)\n",
    "print(cur.fetchall())"
   ]
  },
  {
   "cell_type": "markdown",
   "metadata": {},
   "source": [
    "### For each retailer"
   ]
  },
  {
   "cell_type": "markdown",
   "metadata": {},
   "source": [
    "### info_id_r_id"
   ]
  },
  {
   "cell_type": "code",
   "execution_count": 13,
   "metadata": {},
   "outputs": [
    {
     "data": {
      "text/plain": [
       "<sqlite3.Cursor at 0x7f445ba9d6c0>"
      ]
     },
     "execution_count": 13,
     "metadata": {},
     "output_type": "execute_result"
    }
   ],
   "source": [
    "dbase.execute('''create table if not exists info_1(\n",
    "product_id integer primary key,\n",
    "product_name  TEXT NOT_NULL,\n",
    "product_quantity INT,\n",
    "product_cp FlOAT,\n",
    "product_sp FLOAT\n",
    ") ''')"
   ]
  },
  {
   "cell_type": "code",
   "execution_count": null,
   "metadata": {},
   "outputs": [],
   "source": [
    "dbase.execute('''''')"
   ]
  },
  {
   "cell_type": "markdown",
   "metadata": {},
   "source": [
    "### sales_id_r_id"
   ]
  },
  {
   "cell_type": "code",
   "execution_count": 14,
   "metadata": {},
   "outputs": [
    {
     "data": {
      "text/plain": [
       "<sqlite3.Cursor at 0x7f445ba9d8f0>"
      ]
     },
     "execution_count": 14,
     "metadata": {},
     "output_type": "execute_result"
    }
   ],
   "source": [
    "dbase.execute('''create table if not exists sales_1 (\n",
    "dt datetime default current_timestamp,\n",
    "sales FLOAT\n",
    ");''')"
   ]
  },
  {
   "cell_type": "code",
   "execution_count": 29,
   "metadata": {},
   "outputs": [
    {
     "data": {
      "text/plain": [
       "<sqlite3.Cursor at 0x7f445410b880>"
      ]
     },
     "execution_count": 29,
     "metadata": {},
     "output_type": "execute_result"
    }
   ],
   "source": [
    "dbase.execute('''drop table sales_1''')"
   ]
  },
  {
   "cell_type": "markdown",
   "metadata": {},
   "source": [
    "### transaction_id_r_id"
   ]
  },
  {
   "cell_type": "code",
   "execution_count": null,
   "metadata": {},
   "outputs": [],
   "source": []
  },
  {
   "cell_type": "code",
   "execution_count": 3,
   "metadata": {},
   "outputs": [],
   "source": [
    "# dbase.execute('''create table if not exists transactions_1(\n",
    "# invoice_no NOT_NULL TEXT,\n",
    "# description  TEXT,\n",
    "# quantity int,\n",
    "# invoice_date datetime default current_timestamp,\n",
    "# price FLOAT,\n",
    "# c_id  INT\n",
    "# ); ''')"
   ]
  },
  {
   "cell_type": "code",
   "execution_count": 4,
   "metadata": {},
   "outputs": [],
   "source": [
    "# dbase.execute('''create table if not exists transactions_1(\n",
    "# invoice_no ,\n",
    "# description ,\n",
    "# quantity ,\n",
    "# invoice_date ,\n",
    "# price ,\n",
    "# c_id\n",
    "# ); ''')\n",
    "# dbase.commit()"
   ]
  },
  {
   "cell_type": "code",
   "execution_count": null,
   "metadata": {},
   "outputs": [],
   "source": []
  },
  {
   "source": [
    "# Entering transactions"
   ],
   "cell_type": "markdown",
   "metadata": {}
  },
  {
   "cell_type": "code",
   "execution_count": 126,
   "metadata": {},
   "outputs": [],
   "source": [
    "# import csv\n",
    "# cur = dbase.cursor()\n",
    "data  = pd.read_csv('../../Apriori/onlineretail_clean.csv')\n",
    "data2 = pd.read_csv('../../Apriori/onlineretail2_clean.csv')"
   ]
  },
  {
   "cell_type": "code",
   "execution_count": 127,
   "metadata": {},
   "outputs": [],
   "source": [
    "data['InvoiceDate'] = pd.to_datetime(data['InvoiceDate'])\n",
    "data2['InvoiceDate'] = pd.to_datetime(data2['InvoiceDate'])"
   ]
  },
  {
   "cell_type": "code",
   "execution_count": 112,
   "metadata": {},
   "outputs": [
    {
     "output_type": "stream",
     "name": "stdout",
     "text": [
      "<class 'pandas.core.frame.DataFrame'>\nRangeIndex: 406829 entries, 0 to 406828\nData columns (total 8 columns):\n #   Column       Non-Null Count   Dtype         \n---  ------       --------------   -----         \n 0   Invoice      406829 non-null  object        \n 1   StockCode    406829 non-null  object        \n 2   Description  406829 non-null  object        \n 3   Quantity     406829 non-null  int64         \n 4   InvoiceDate  406829 non-null  datetime64[ns]\n 5   Price        406829 non-null  float64       \n 6   Customer ID  406829 non-null  float64       \n 7   Country      406829 non-null  object        \ndtypes: datetime64[ns](1), float64(2), int64(1), object(4)\nmemory usage: 24.8+ MB\n"
     ]
    }
   ],
   "source": [
    "data.info()"
   ]
  },
  {
   "cell_type": "code",
   "execution_count": 113,
   "metadata": {},
   "outputs": [
    {
     "output_type": "stream",
     "name": "stdout",
     "text": [
      "<class 'pandas.core.frame.DataFrame'>\nRangeIndex: 824348 entries, 0 to 824347\nData columns (total 8 columns):\n #   Column       Non-Null Count   Dtype         \n---  ------       --------------   -----         \n 0   Invoice      824348 non-null  object        \n 1   StockCode    824348 non-null  object        \n 2   Description  824348 non-null  object        \n 3   Quantity     824348 non-null  int64         \n 4   InvoiceDate  824348 non-null  datetime64[ns]\n 5   Price        824348 non-null  float64       \n 6   Customer ID  824348 non-null  float64       \n 7   Country      824348 non-null  object        \ndtypes: datetime64[ns](1), float64(2), int64(1), object(4)\nmemory usage: 50.3+ MB\n"
     ]
    }
   ],
   "source": [
    "data2.info()"
   ]
  },
  {
   "cell_type": "code",
   "execution_count": 114,
   "metadata": {},
   "outputs": [],
   "source": [
    "data.to_csv('onlineretail_clean.csv')\n",
    "data2.to_csv('onlineretail2_clean.csv')"
   ]
  },
  {
   "cell_type": "code",
   "execution_count": 96,
   "metadata": {},
   "outputs": [
    {
     "output_type": "error",
     "ename": "ValueError",
     "evalue": "Table 'transactions_2' already exists.",
     "traceback": [
      "\u001b[0;31m---------------------------------------------------------------------------\u001b[0m",
      "\u001b[0;31mValueError\u001b[0m                                Traceback (most recent call last)",
      "\u001b[0;32m<ipython-input-96-af8915047330>\u001b[0m in \u001b[0;36m<module>\u001b[0;34m\u001b[0m\n\u001b[0;32m----> 1\u001b[0;31m \u001b[0mdata\u001b[0m\u001b[0;34m.\u001b[0m\u001b[0mto_sql\u001b[0m\u001b[0;34m(\u001b[0m\u001b[0;34m\"transactions_2\"\u001b[0m\u001b[0;34m,\u001b[0m \u001b[0mdbase\u001b[0m\u001b[0;34m)\u001b[0m\u001b[0;34m\u001b[0m\u001b[0;34m\u001b[0m\u001b[0m\n\u001b[0m",
      "\u001b[0;32m~/newenv/lib/python3.8/site-packages/pandas/core/generic.py\u001b[0m in \u001b[0;36mto_sql\u001b[0;34m(self, name, con, schema, if_exists, index, index_label, chunksize, dtype, method)\u001b[0m\n\u001b[1;32m   2600\u001b[0m         \u001b[0;32mfrom\u001b[0m \u001b[0mpandas\u001b[0m\u001b[0;34m.\u001b[0m\u001b[0mio\u001b[0m \u001b[0;32mimport\u001b[0m \u001b[0msql\u001b[0m\u001b[0;34m\u001b[0m\u001b[0;34m\u001b[0m\u001b[0m\n\u001b[1;32m   2601\u001b[0m \u001b[0;34m\u001b[0m\u001b[0m\n\u001b[0;32m-> 2602\u001b[0;31m         sql.to_sql(\n\u001b[0m\u001b[1;32m   2603\u001b[0m             \u001b[0mself\u001b[0m\u001b[0;34m,\u001b[0m\u001b[0;34m\u001b[0m\u001b[0;34m\u001b[0m\u001b[0m\n\u001b[1;32m   2604\u001b[0m             \u001b[0mname\u001b[0m\u001b[0;34m,\u001b[0m\u001b[0;34m\u001b[0m\u001b[0;34m\u001b[0m\u001b[0m\n",
      "\u001b[0;32m~/newenv/lib/python3.8/site-packages/pandas/io/sql.py\u001b[0m in \u001b[0;36mto_sql\u001b[0;34m(frame, name, con, schema, if_exists, index, index_label, chunksize, dtype, method)\u001b[0m\n\u001b[1;32m    587\u001b[0m         )\n\u001b[1;32m    588\u001b[0m \u001b[0;34m\u001b[0m\u001b[0m\n\u001b[0;32m--> 589\u001b[0;31m     pandas_sql.to_sql(\n\u001b[0m\u001b[1;32m    590\u001b[0m         \u001b[0mframe\u001b[0m\u001b[0;34m,\u001b[0m\u001b[0;34m\u001b[0m\u001b[0;34m\u001b[0m\u001b[0m\n\u001b[1;32m    591\u001b[0m         \u001b[0mname\u001b[0m\u001b[0;34m,\u001b[0m\u001b[0;34m\u001b[0m\u001b[0;34m\u001b[0m\u001b[0m\n",
      "\u001b[0;32m~/newenv/lib/python3.8/site-packages/pandas/io/sql.py\u001b[0m in \u001b[0;36mto_sql\u001b[0;34m(self, frame, name, if_exists, index, index_label, schema, chunksize, dtype, method)\u001b[0m\n\u001b[1;32m   1825\u001b[0m             \u001b[0mdtype\u001b[0m\u001b[0;34m=\u001b[0m\u001b[0mdtype\u001b[0m\u001b[0;34m,\u001b[0m\u001b[0;34m\u001b[0m\u001b[0;34m\u001b[0m\u001b[0m\n\u001b[1;32m   1826\u001b[0m         )\n\u001b[0;32m-> 1827\u001b[0;31m         \u001b[0mtable\u001b[0m\u001b[0;34m.\u001b[0m\u001b[0mcreate\u001b[0m\u001b[0;34m(\u001b[0m\u001b[0;34m)\u001b[0m\u001b[0;34m\u001b[0m\u001b[0;34m\u001b[0m\u001b[0m\n\u001b[0m\u001b[1;32m   1828\u001b[0m         \u001b[0mtable\u001b[0m\u001b[0;34m.\u001b[0m\u001b[0minsert\u001b[0m\u001b[0;34m(\u001b[0m\u001b[0mchunksize\u001b[0m\u001b[0;34m,\u001b[0m \u001b[0mmethod\u001b[0m\u001b[0;34m)\u001b[0m\u001b[0;34m\u001b[0m\u001b[0;34m\u001b[0m\u001b[0m\n\u001b[1;32m   1829\u001b[0m \u001b[0;34m\u001b[0m\u001b[0m\n",
      "\u001b[0;32m~/newenv/lib/python3.8/site-packages/pandas/io/sql.py\u001b[0m in \u001b[0;36mcreate\u001b[0;34m(self)\u001b[0m\n\u001b[1;32m    721\u001b[0m         \u001b[0;32mif\u001b[0m \u001b[0mself\u001b[0m\u001b[0;34m.\u001b[0m\u001b[0mexists\u001b[0m\u001b[0;34m(\u001b[0m\u001b[0;34m)\u001b[0m\u001b[0;34m:\u001b[0m\u001b[0;34m\u001b[0m\u001b[0;34m\u001b[0m\u001b[0m\n\u001b[1;32m    722\u001b[0m             \u001b[0;32mif\u001b[0m \u001b[0mself\u001b[0m\u001b[0;34m.\u001b[0m\u001b[0mif_exists\u001b[0m \u001b[0;34m==\u001b[0m \u001b[0;34m\"fail\"\u001b[0m\u001b[0;34m:\u001b[0m\u001b[0;34m\u001b[0m\u001b[0;34m\u001b[0m\u001b[0m\n\u001b[0;32m--> 723\u001b[0;31m                 \u001b[0;32mraise\u001b[0m \u001b[0mValueError\u001b[0m\u001b[0;34m(\u001b[0m\u001b[0;34mf\"Table '{self.name}' already exists.\"\u001b[0m\u001b[0;34m)\u001b[0m\u001b[0;34m\u001b[0m\u001b[0;34m\u001b[0m\u001b[0m\n\u001b[0m\u001b[1;32m    724\u001b[0m             \u001b[0;32melif\u001b[0m \u001b[0mself\u001b[0m\u001b[0;34m.\u001b[0m\u001b[0mif_exists\u001b[0m \u001b[0;34m==\u001b[0m \u001b[0;34m\"replace\"\u001b[0m\u001b[0;34m:\u001b[0m\u001b[0;34m\u001b[0m\u001b[0;34m\u001b[0m\u001b[0m\n\u001b[1;32m    725\u001b[0m                 \u001b[0mself\u001b[0m\u001b[0;34m.\u001b[0m\u001b[0mpd_sql\u001b[0m\u001b[0;34m.\u001b[0m\u001b[0mdrop_table\u001b[0m\u001b[0;34m(\u001b[0m\u001b[0mself\u001b[0m\u001b[0;34m.\u001b[0m\u001b[0mname\u001b[0m\u001b[0;34m,\u001b[0m \u001b[0mself\u001b[0m\u001b[0;34m.\u001b[0m\u001b[0mschema\u001b[0m\u001b[0;34m)\u001b[0m\u001b[0;34m\u001b[0m\u001b[0;34m\u001b[0m\u001b[0m\n",
      "\u001b[0;31mValueError\u001b[0m: Table 'transactions_2' already exists."
     ]
    }
   ],
   "source": [
    "data.to_sql(\"transactions_1\", dbase)\n",
    "data2.to_sql(\"transactions_2\", dbase)"
   ]
  },
  {
   "cell_type": "code",
   "execution_count": null,
   "metadata": {},
   "outputs": [],
   "source": []
  },
  {
   "cell_type": "code",
   "execution_count": null,
   "metadata": {},
   "outputs": [],
   "source": []
  },
  {
   "cell_type": "code",
   "execution_count": null,
   "metadata": {},
   "outputs": [],
   "source": []
  },
  {
   "cell_type": "code",
   "execution_count": 59,
   "metadata": {},
   "outputs": [],
   "source": [
    "d = pd.read_csv('../../Apriori/onlineretail_clean.csv')"
   ]
  },
  {
   "cell_type": "code",
   "execution_count": 61,
   "metadata": {},
   "outputs": [],
   "source": [
    "d.to_sql('unfor',dbase)\n",
    "d['InvoiceDate'] = pd.to_datetime(d[\"InvoiceDate\"])\n",
    "d.to_sql('form', dbase)"
   ]
  },
  {
   "cell_type": "code",
   "execution_count": 15,
   "metadata": {},
   "outputs": [
    {
     "data": {
      "text/plain": [
       "541909"
      ]
     },
     "execution_count": 15,
     "metadata": {},
     "output_type": "execute_result"
    }
   ],
   "source": [
    "len(data)`"
   ]
  },
  {
   "cell_type": "code",
   "execution_count": 8,
   "metadata": {},
   "outputs": [
    {
     "data": {
      "text/plain": [
       "541909"
      ]
     },
     "execution_count": 8,
     "metadata": {},
     "output_type": "execute_result"
    }
   ],
   "source": [
    "len(data)train.csv"
   ]
  },
  {
   "cell_type": "code",
   "execution_count": 16,
   "metadata": {},
   "outputs": [],
   "source": [
    "# z = 0 \n",
    "# for i in rows:\n",
    "#     if( z == 10):\n",
    "#         break\n",
    "#     print(i)\n",
    "#     z = z+1"
   ]
  },
  {
   "cell_type": "markdown",
   "metadata": {},
   "source": [
    "# INSERTING DATA FROM CSV TO DB"
   ]
  },
  {
   "cell_type": "code",
   "execution_count": 6,
   "metadata": {},
   "outputs": [
    {
     "output_type": "stream",
     "name": "stdout",
     "text": [
      "b'/home/aman/Desktop/Minor_project/database/create_manage'\n"
     ]
    }
   ],
   "source": []
  },
  {
   "cell_type": "code",
   "execution_count": 89,
   "metadata": {},
   "outputs": [],
   "source": [
    "data = pd.read_csv('../../Apriori/onlineretail2_clean.csv')"
   ]
  },
  {
   "cell_type": "code",
   "execution_count": 90,
   "metadata": {},
   "outputs": [
    {
     "output_type": "execute_result",
     "data": {
      "text/plain": [
       "  Invoice StockCode                          Description  Quantity  \\\n",
       "0  489434     85048  15CM CHRISTMAS GLASS BALL 20 LIGHTS        12   \n",
       "1  489434    79323P                   PINK CHERRY LIGHTS        12   \n",
       "2  489434    79323W                  WHITE CHERRY LIGHTS        12   \n",
       "3  489434     22041         RECORD FRAME 7\" SINGLE SIZE         48   \n",
       "4  489434     21232       STRAWBERRY CERAMIC TRINKET BOX        24   \n",
       "\n",
       "           InvoiceDate  Price  Customer ID         Country  \n",
       "0  2009-12-01 07:45:00   6.95      13085.0  United Kingdom  \n",
       "1  2009-12-01 07:45:00   6.75      13085.0  United Kingdom  \n",
       "2  2009-12-01 07:45:00   6.75      13085.0  United Kingdom  \n",
       "3  2009-12-01 07:45:00   2.10      13085.0  United Kingdom  \n",
       "4  2009-12-01 07:45:00   1.25      13085.0  United Kingdom  "
      ],
      "text/html": "<div>\n<style scoped>\n    .dataframe tbody tr th:only-of-type {\n        vertical-align: middle;\n    }\n\n    .dataframe tbody tr th {\n        vertical-align: top;\n    }\n\n    .dataframe thead th {\n        text-align: right;\n    }\n</style>\n<table border=\"1\" class=\"dataframe\">\n  <thead>\n    <tr style=\"text-align: right;\">\n      <th></th>\n      <th>Invoice</th>\n      <th>StockCode</th>\n      <th>Description</th>\n      <th>Quantity</th>\n      <th>InvoiceDate</th>\n      <th>Price</th>\n      <th>Customer ID</th>\n      <th>Country</th>\n    </tr>\n  </thead>\n  <tbody>\n    <tr>\n      <th>0</th>\n      <td>489434</td>\n      <td>85048</td>\n      <td>15CM CHRISTMAS GLASS BALL 20 LIGHTS</td>\n      <td>12</td>\n      <td>2009-12-01 07:45:00</td>\n      <td>6.95</td>\n      <td>13085.0</td>\n      <td>United Kingdom</td>\n    </tr>\n    <tr>\n      <th>1</th>\n      <td>489434</td>\n      <td>79323P</td>\n      <td>PINK CHERRY LIGHTS</td>\n      <td>12</td>\n      <td>2009-12-01 07:45:00</td>\n      <td>6.75</td>\n      <td>13085.0</td>\n      <td>United Kingdom</td>\n    </tr>\n    <tr>\n      <th>2</th>\n      <td>489434</td>\n      <td>79323W</td>\n      <td>WHITE CHERRY LIGHTS</td>\n      <td>12</td>\n      <td>2009-12-01 07:45:00</td>\n      <td>6.75</td>\n      <td>13085.0</td>\n      <td>United Kingdom</td>\n    </tr>\n    <tr>\n      <th>3</th>\n      <td>489434</td>\n      <td>22041</td>\n      <td>RECORD FRAME 7\" SINGLE SIZE</td>\n      <td>48</td>\n      <td>2009-12-01 07:45:00</td>\n      <td>2.10</td>\n      <td>13085.0</td>\n      <td>United Kingdom</td>\n    </tr>\n    <tr>\n      <th>4</th>\n      <td>489434</td>\n      <td>21232</td>\n      <td>STRAWBERRY CERAMIC TRINKET BOX</td>\n      <td>24</td>\n      <td>2009-12-01 07:45:00</td>\n      <td>1.25</td>\n      <td>13085.0</td>\n      <td>United Kingdom</td>\n    </tr>\n  </tbody>\n</table>\n</div>"
     },
     "metadata": {},
     "execution_count": 90
    }
   ],
   "source": [
    "data.head()"
   ]
  },
  {
   "cell_type": "code",
   "execution_count": 91,
   "metadata": {},
   "outputs": [
    {
     "output_type": "stream",
     "name": "stdout",
     "text": [
      "<class 'pandas.core.frame.DataFrame'>\nRangeIndex: 824348 entries, 0 to 824347\nData columns (total 8 columns):\n #   Column       Non-Null Count   Dtype  \n---  ------       --------------   -----  \n 0   Invoice      824348 non-null  object \n 1   StockCode    824348 non-null  object \n 2   Description  824348 non-null  object \n 3   Quantity     824348 non-null  int64  \n 4   InvoiceDate  824348 non-null  object \n 5   Price        824348 non-null  float64\n 6   Customer ID  824348 non-null  float64\n 7   Country      824348 non-null  object \ndtypes: float64(2), int64(1), object(5)\nmemory usage: 50.3+ MB\n"
     ]
    }
   ],
   "source": [
    "data.info()"
   ]
  },
  {
   "cell_type": "code",
   "execution_count": 92,
   "metadata": {},
   "outputs": [
    {
     "output_type": "stream",
     "name": "stdout",
     "text": [
      "<class 'pandas.core.frame.DataFrame'>\nRangeIndex: 824348 entries, 0 to 824347\nData columns (total 8 columns):\n #   Column       Non-Null Count   Dtype  \n---  ------       --------------   -----  \n 0   Invoice      824348 non-null  object \n 1   StockCode    824348 non-null  object \n 2   Description  824348 non-null  object \n 3   Quantity     824348 non-null  int64  \n 4   InvoiceDate  824348 non-null  object \n 5   Price        824348 non-null  float64\n 6   Customer ID  824348 non-null  float64\n 7   Country      824348 non-null  object \ndtypes: float64(2), int64(1), object(5)\nmemory usage: 50.3+ MB\n"
     ]
    }
   ],
   "source": [
    "data.info()"
   ]
  },
  {
   "cell_type": "code",
   "execution_count": 36,
   "metadata": {},
   "outputs": [
    {
     "output_type": "execute_result",
     "data": {
      "text/plain": [
       "4644"
      ]
     },
     "metadata": {},
     "execution_count": 36
    }
   ],
   "source": [
    "len(data['StockCode'].unique())"
   ]
  },
  {
   "cell_type": "code",
   "execution_count": 37,
   "metadata": {},
   "outputs": [
    {
     "output_type": "execute_result",
     "data": {
      "text/plain": [
       "5298"
      ]
     },
     "metadata": {},
     "execution_count": 37
    }
   ],
   "source": [
    "len(data['Description'].unique())"
   ]
  },
  {
   "cell_type": "code",
   "execution_count": null,
   "metadata": {},
   "outputs": [],
   "source": []
  },
  {
   "cell_type": "code",
   "execution_count": 21,
   "metadata": {},
   "outputs": [
    {
     "data": {
      "text/plain": [
       "<sqlite3.Cursor at 0x7fb595ea5730>"
      ]
     },
     "execution_count": 21,
     "metadata": {},
     "output_type": "execute_result"
    }
   ],
   "source": [
    "dbase.execute('''drop table transactions_1''')"
   ]
  },
  {
   "cell_type": "code",
   "execution_count": 38,
   "metadata": {},
   "outputs": [],
   "source": [
    "data.to_sql('transactions_2', dbase)"
   ]
  },
  {
   "cell_type": "code",
   "execution_count": 42,
   "metadata": {},
   "outputs": [],
   "source": [
    "# rows = csv.reader(data)\n",
    "# cur.executemany(\"INSERT INTO transactions_1 values (?,?,?,?,?,?)\", [rows] )\n",
    "# cur.execute(\"SELECT * FROM transactions_1\")\n",
    "# print(cur.fetchall())\n"
   ]
  },
  {
   "cell_type": "code",
   "execution_count": 14,
   "metadata": {
    "tags": [
     "outputPrepend"
    ]
   },
   "outputs": [
    {
     "output_type": "stream",
     "name": "stdout",
     "text": [
      "7, '581571', '22227', 'HANGING HEART MIRROR DECORATION ', 10, '2011-12-09 12:00:00', 0.65, 15311.0, 'United Kingdom'), (406658, '581571', '22794', 'SWEETHEART WIRE MAGAZINE RACK', 1, '2011-12-09 12:00:00', 7.95, 15311.0, 'United Kingdom'), (406659, '581571', '23182', 'TOILET SIGN OCCUPIED OR VACANT', 1, '2011-12-09 12:00:00', 0.83, 15311.0, 'United Kingdom'), (406660, '581571', '21755', 'LOVE BUILDING BLOCK WORD', 1, '2011-12-09 12:00:00', 6.25, 15311.0, 'United Kingdom'), (406661, '581571', '85053', 'FRENCH ENAMEL CANDLEHOLDER', 2, '2011-12-09 12:00:00', 2.1, 15311.0, 'United Kingdom'), (406662, '581571', '23110', 'PARISIENNE KEY CABINET ', 2, '2011-12-09 12:00:00', 5.75, 15311.0, 'United Kingdom'), (406663, '581571', '21169', \"YOU'RE CONFUSING ME METAL SIGN \", 1, '2011-12-09 12:00:00', 1.69, 15311.0, 'United Kingdom'), (406664, '581571', '21258', 'VICTORIAN SEWING BOX LARGE', 8, '2011-12-09 12:00:00', 10.95, 15311.0, 'United Kingdom'), (406665, '581571', '23168', 'CLASSIC CAFE SUGAR DISPENSER', 36, '2011-12-09 12:00:00', 1.04, 15311.0, 'United Kingdom'), (406666, '581571', '23167', 'SMALL CERAMIC TOP STORAGE JAR ', 96, '2011-12-09 12:00:00', 0.69, 15311.0, 'United Kingdom'), (406667, '581571', '21314', 'SMALL GLASS HEART TRINKET POT', 48, '2011-12-09 12:00:00', 1.85, 15311.0, 'United Kingdom'), (406668, '581571', '21137', 'BLACK RECORD COVER FRAME', 24, '2011-12-09 12:00:00', 3.39, 15311.0, 'United Kingdom'), (406669, '581571', '44234', 'ASSORTED CIRCULAR MOBILE', 1, '2011-12-09 12:00:00', 0.21, 15311.0, 'United Kingdom'), (406670, '581571', '84347', 'ROTATING SILVER ANGELS T-LIGHT HLDR', 24, '2011-12-09 12:00:00', 2.55, 15311.0, 'United Kingdom'), (406671, '581572', '23328', 'SET 6 SCHOOL MILK BOTTLES IN CRATE', 48, '2011-12-09 12:08:00', 3.39, 16705.0, 'United Kingdom'), (406672, '581572', '22627', 'MINT KITCHEN SCALES', 4, '2011-12-09 12:08:00', 8.5, 16705.0, 'United Kingdom'), (406673, '581572', '22624', 'IVORY KITCHEN SCALES', 4, '2011-12-09 12:08:00', 8.5, 16705.0, 'United Kingdom'), (406674, '581572', '23245', 'SET OF 3 REGENCY CAKE TINS', 4, '2011-12-09 12:08:00', 4.95, 16705.0, 'United Kingdom'), (406675, '581574', '22326', 'ROUND SNACK BOXES SET OF4 WOODLAND ', 6, '2011-12-09 12:09:00', 2.95, 12526.0, 'Germany'), (406676, '581574', '22328', 'ROUND SNACK BOXES SET OF 4 FRUITS ', 6, '2011-12-09 12:09:00', 2.95, 12526.0, 'Germany'), (406677, '581574', '23199', 'JUMBO BAG APPLES', 10, '2011-12-09 12:09:00', 2.08, 12526.0, 'Germany'), (406678, '581574', '23581', 'JUMBO BAG PAISLEY PARK', 10, '2011-12-09 12:09:00', 2.08, 12526.0, 'Germany'), (406679, '581574', '23238', 'SET OF 4 KNICK KNACK TINS LONDON ', 6, '2011-12-09 12:09:00', 4.15, 12526.0, 'Germany'), (406680, '581574', '23237', 'SET OF 4 KNICK KNACK TINS LEAF', 6, '2011-12-09 12:09:00', 4.15, 12526.0, 'Germany'), (406681, '581574', '21257', 'VICTORIAN SEWING BOX MEDIUM', 2, '2011-12-09 12:09:00', 7.95, 12526.0, 'Germany'), (406682, '581574', '21258', 'VICTORIAN SEWING BOX LARGE', 2, '2011-12-09 12:09:00', 12.75, 12526.0, 'Germany'), (406683, '581574', '23111', 'PARISIENNE SEWING BOX', 2, '2011-12-09 12:09:00', 12.5, 12526.0, 'Germany'), (406684, '581574', '22077', '6 RIBBONS RUSTIC CHARM', 12, '2011-12-09 12:09:00', 1.95, 12526.0, 'Germany'), (406685, '581574', '22074', '6 RIBBONS SHIMMERING PINKS ', 12, '2011-12-09 12:09:00', 0.39, 12526.0, 'Germany'), (406686, '581574', '22621', 'TRADITIONAL KNITTING NANCY', 12, '2011-12-09 12:09:00', 1.65, 12526.0, 'Germany'), (406687, '581574', 'POST', 'POSTAGE', 2, '2011-12-09 12:09:00', 18.0, 12526.0, 'Germany'), (406688, '581578', 'POST', 'POSTAGE', 3, '2011-12-09 12:16:00', 18.0, 12713.0, 'Germany'), (406689, '581578', '21124', 'SET/10 BLUE POLKADOT PARTY CANDLES', 24, '2011-12-09 12:16:00', 1.25, 12713.0, 'Germany'), (406690, '581578', '21122', 'SET/10 PINK POLKADOT PARTY CANDLES', 24, '2011-12-09 12:16:00', 1.25, 12713.0, 'Germany'), (406691, '581578', '21121', 'SET/10 RED POLKADOT PARTY CANDLES', 24, '2011-12-09 12:16:00', 1.25, 12713.0, 'Germany'), (406692, '581578', '23389', 'SPACEBOY MINI BACKPACK', 4, '2011-12-09 12:16:00', 4.15, 12713.0, 'Germany'), (406693, '581578', '22556', 'PLASTERS IN TIN CIRCUS PARADE ', 12, '2011-12-09 12:16:00', 1.65, 12713.0, 'Germany'), (406694, '581578', '22976', 'CIRCUS PARADE CHILDRENS EGG CUP ', 12, '2011-12-09 12:16:00', 1.25, 12713.0, 'Germany'), (406695, '581578', '23255', 'CHILDRENS CUTLERY CIRCUS PARADE', 12, '2011-12-09 12:16:00', 4.15, 12713.0, 'Germany'), (406696, '581578', '84997D', 'CHILDRENS CUTLERY POLKADOT PINK', 8, '2011-12-09 12:16:00', 4.15, 12713.0, 'Germany'), (406697, '581578', '84997B', 'CHILDRENS CUTLERY RETROSPOT RED ', 8, '2011-12-09 12:16:00', 4.15, 12713.0, 'Germany'), (406698, '581578', '84997C', 'CHILDRENS CUTLERY POLKADOT BLUE', 8, '2011-12-09 12:16:00', 4.15, 12713.0, 'Germany'), (406699, '581578', '22555', 'PLASTERS IN TIN STRONGMAN', 12, '2011-12-09 12:16:00', 1.65, 12713.0, 'Germany'), (406700, '581578', '21914', 'BLUE HARMONICA IN BOX ', 12, '2011-12-09 12:16:00', 1.25, 12713.0, 'Germany'), (406701, '581578', '22549', 'PICTURE DOMINOES', 24, '2011-12-09 12:16:00', 1.45, 12713.0, 'Germany'), (406702, '581578', '21918', 'SET 12 KIDS COLOUR  CHALK STICKS', 24, '2011-12-09 12:16:00', 0.42, 12713.0, 'Germany'), (406703, '581578', '22992', 'REVOLVER WOODEN RULER ', 12, '2011-12-09 12:16:00', 1.95, 12713.0, 'Germany'), (406704, '581578', '22991', 'GIRAFFE WOODEN RULER', 12, '2011-12-09 12:16:00', 1.95, 12713.0, 'Germany'), (406705, '581578', '23229', 'VINTAGE DONKEY TAIL GAME ', 6, '2011-12-09 12:16:00', 3.75, 12713.0, 'Germany'), (406706, '581578', '22622', 'BOX OF VINTAGE ALPHABET BLOCKS', 6, '2011-12-09 12:16:00', 11.95, 12713.0, 'Germany'), (406707, '581578', '21506', 'FANCY FONT BIRTHDAY CARD, ', 12, '2011-12-09 12:16:00', 0.42, 12713.0, 'Germany'), (406708, '581578', '21507', 'ELEPHANT BIRTHDAY CARD ', 12, '2011-12-09 12:16:00', 0.42, 12713.0, 'Germany'), (406709, '581578', '23037', 'CANDLE HOLDER SILVER MADELINE', 12, '2011-12-09 12:16:00', 1.65, 12713.0, 'Germany'), (406710, '581578', '23550', 'WRAP ALPHABET POSTER  ', 25, '2011-12-09 12:16:00', 0.42, 12713.0, 'Germany'), (406711, '581578', '22711', 'WRAP CIRCUS PARADE', 25, '2011-12-09 12:16:00', 0.42, 12713.0, 'Germany'), (406712, '581578', '21497', 'FANCY FONTS BIRTHDAY WRAP', 25, '2011-12-09 12:16:00', 0.42, 12713.0, 'Germany'), (406713, '581578', '22704', 'WRAP RED APPLES ', 25, '2011-12-09 12:16:00', 0.42, 12713.0, 'Germany'), (406714, '581578', '22585', 'PACK OF 6 BIRDY GIFT TAGS', 12, '2011-12-09 12:16:00', 1.25, 12713.0, 'Germany'), (406715, '581578', '23205', 'CHARLOTTE BAG VINTAGE ALPHABET ', 10, '2011-12-09 12:16:00', 0.85, 12713.0, 'Germany'), (406716, '581578', '23201', 'JUMBO BAG ALPHABET', 10, '2011-12-09 12:16:00', 2.08, 12713.0, 'Germany'), (406717, '581578', '23515', 'EMBROIDERED RIBBON REEL DAISY ', 6, '2011-12-09 12:16:00', 2.08, 12713.0, 'Germany'), (406718, '581578', '22081', 'RIBBON REEL FLORA + FAUNA ', 10, '2011-12-09 12:16:00', 1.65, 12713.0, 'Germany'), (406719, '581578', '22080', 'RIBBON REEL POLKADOTS ', 10, '2011-12-09 12:16:00', 1.65, 12713.0, 'Germany'), (406720, '581578', '23298', 'SPOTTY BUNTING', 9, '2011-12-09 12:16:00', 4.95, 12713.0, 'Germany'), (406721, '581578', '22993', 'SET OF 4 PANTRY JELLY MOULDS', 12, '2011-12-09 12:16:00', 1.25, 12713.0, 'Germany'), (406722, '581578', '22907', 'PACK OF 20 NAPKINS PANTRY DESIGN', 12, '2011-12-09 12:16:00', 0.85, 12713.0, 'Germany'), (406723, '581578', '22908', 'PACK OF 20 NAPKINS RED APPLES', 12, '2011-12-09 12:16:00', 0.85, 12713.0, 'Germany'), (406724, '581578', '23215', 'JINGLE BELL HEART ANTIQUE SILVER', 12, '2011-12-09 12:16:00', 2.08, 12713.0, 'Germany'), (406725, '581578', '22736', 'RIBBON REEL MAKING SNOWMEN ', 10, '2011-12-09 12:16:00', 1.65, 12713.0, 'Germany'), (406726, '581579', '22386', 'JUMBO BAG PINK POLKADOT', 10, '2011-12-09 12:19:00', 1.79, 17581.0, 'United Kingdom'), (406727, '581579', '22411', 'JUMBO SHOPPER VINTAGE RED PAISLEY', 10, '2011-12-09 12:19:00', 1.79, 17581.0, 'United Kingdom'), (406728, '581579', '21929', 'JUMBO BAG PINK VINTAGE PAISLEY', 10, '2011-12-09 12:19:00', 1.79, 17581.0, 'United Kingdom'), (406729, '581579', '85099C', 'JUMBO  BAG BAROQUE BLACK WHITE', 10, '2011-12-09 12:19:00', 1.79, 17581.0, 'United Kingdom'), (406730, '581579', '20713', 'JUMBO BAG OWLS', 10, '2011-12-09 12:19:00', 1.79, 17581.0, 'United Kingdom'), (406731, '581579', '21931', 'JUMBO STORAGE BAG SUKI', 10, '2011-12-09 12:19:00', 1.79, 17581.0, 'United Kingdom'), (406732, '581579', '23199', 'JUMBO BAG APPLES', 30, '2011-12-09 12:19:00', 1.79, 17581.0, 'United Kingdom'), (406733, '581579', '23353', '6 GIFT TAGS VINTAGE CHRISTMAS ', 12, '2011-12-09 12:19:00', 0.83, 17581.0, 'United Kingdom'), (406734, '581579', '23350', 'ROLL WRAP VINTAGE SPOT ', 25, '2011-12-09 12:19:00', 1.25, 17581.0, 'United Kingdom'), (406735, '581579', '23319', \"BOX OF 6 MINI 50'S CRACKERS\", 12, '2011-12-09 12:19:00', 2.49, 17581.0, 'United Kingdom'), (406736, '581579', '23318', 'BOX OF 6 MINI VINTAGE CRACKERS', 12, '2011-12-09 12:19:00', 2.49, 17581.0, 'United Kingdom'), (406737, '581579', '22910', 'PAPER CHAIN KIT VINTAGE CHRISTMAS', 12, '2011-12-09 12:19:00', 2.95, 17581.0, 'United Kingdom'), (406738, '581579', '22086', \"PAPER CHAIN KIT 50'S CHRISTMAS \", 12, '2011-12-09 12:19:00', 2.95, 17581.0, 'United Kingdom'), (406739, '581579', '21121', 'SET/10 RED POLKADOT PARTY CANDLES', 24, '2011-12-09 12:19:00', 1.25, 17581.0, 'United Kingdom'), (406740, '581579', '23489', 'VINTAGE BELLS GARLAND', 6, '2011-12-09 12:19:00', 2.89, 17581.0, 'United Kingdom'), (406741, '581579', '23570', 'TRADITIONAL PICK UP STICKS GAME ', 12, '2011-12-09 12:19:00', 1.25, 17581.0, 'United Kingdom'), (406742, '581579', '22993', 'SET OF 4 PANTRY JELLY MOULDS', 12, '2011-12-09 12:19:00', 1.25, 17581.0, 'United Kingdom'), (406743, '581579', '23480', 'MINI LIGHTS WOODLAND MUSHROOMS', 8, '2011-12-09 12:19:00', 3.75, 17581.0, 'United Kingdom'), (406744, '581579', '23084', 'RABBIT NIGHT LIGHT', 24, '2011-12-09 12:19:00', 1.79, 17581.0, 'United Kingdom'), (406745, '581579', '22197', 'POPCORN HOLDER', 24, '2011-12-09 12:19:00', 0.85, 17581.0, 'United Kingdom'), (406746, '581579', '23293', 'SET OF 12 FAIRY CAKE BAKING CASES', 8, '2011-12-09 12:19:00', 0.83, 17581.0, 'United Kingdom'), (406747, '581579', '23313', 'VINTAGE CHRISTMAS BUNTING', 15, '2011-12-09 12:19:00', 4.95, 17581.0, 'United Kingdom'), (406748, '581579', '84347', 'ROTATING SILVER ANGELS T-LIGHT HLDR', 24, '2011-12-09 12:19:00', 2.55, 17581.0, 'United Kingdom'), (406749, '581579', '22083', 'PAPER CHAIN KIT RETROSPOT', 6, '2011-12-09 12:19:00', 2.95, 17581.0, 'United Kingdom'), (406750, '581579', '23376', 'PACK OF 12 VINTAGE CHRISTMAS TISSUE', 24, '2011-12-09 12:19:00', 0.39, 17581.0, 'United Kingdom'), (406751, '581579', '22941', 'CHRISTMAS LIGHTS 10 REINDEER', 4, '2011-12-09 12:19:00', 8.5, 17581.0, 'United Kingdom'), (406752, '581579', '23201', 'JUMBO BAG ALPHABET', 20, '2011-12-09 12:19:00', 1.79, 17581.0, 'United Kingdom'), (406753, '581579', '23343', 'JUMBO BAG VINTAGE CHRISTMAS ', 30, '2011-12-09 12:19:00', 1.79, 17581.0, 'United Kingdom'), (406754, '581579', '23344', \"JUMBO BAG 50'S CHRISTMAS \", 20, '2011-12-09 12:19:00', 1.79, 17581.0, 'United Kingdom'), (406755, '581579', '23581', 'JUMBO BAG PAISLEY PARK', 40, '2011-12-09 12:19:00', 1.79, 17581.0, 'United Kingdom'), (406756, '581580', '23334', 'IVORY WICKER HEART SMALL', 4, '2011-12-09 12:20:00', 0.63, 12748.0, 'United Kingdom'), (406757, '581580', '21790', 'VINTAGE SNAP CARDS', 1, '2011-12-09 12:20:00', 0.85, 12748.0, 'United Kingdom'), (406758, '581580', '84993A', '75 GREEN PETIT FOUR CASES', 2, '2011-12-09 12:20:00', 0.42, 12748.0, 'United Kingdom'), (406759, '581580', '22906', '12 MESSAGE CARDS WITH ENVELOPES', 1, '2011-12-09 12:20:00', 1.65, 12748.0, 'United Kingdom'), (406760, '581580', '21803', 'CHRISTMAS TREE STAR DECORATION', 2, '2011-12-09 12:20:00', 0.42, 12748.0, 'United Kingdom'), (406761, '581580', '21809', 'CHRISTMAS HANGING TREE WITH BELL', 2, '2011-12-09 12:20:00', 0.39, 12748.0, 'United Kingdom'), (406762, '581580', '20974', '12 PENCILS SMALL TUBE SKULL', 1, '2011-12-09 12:20:00', 0.65, 12748.0, 'United Kingdom'), (406763, '581580', '23338', 'EGG FRYING PAN RED ', 1, '2011-12-09 12:20:00', 2.08, 12748.0, 'United Kingdom'), (406764, '581580', '85049A', 'TRADITIONAL CHRISTMAS RIBBONS', 1, '2011-12-09 12:20:00', 1.25, 12748.0, 'United Kingdom'), (406765, '581580', '23126', 'FELTCRAFT GIRL AMELIE KIT', 1, '2011-12-09 12:20:00', 4.95, 12748.0, 'United Kingdom'), (406766, '581580', '22695', 'WICKER WREATH SMALL', 1, '2011-12-09 12:20:00', 0.59, 12748.0, 'United Kingdom'), (406767, '581580', '22144', 'CHRISTMAS CRAFT LITTLE FRIENDS', 1, '2011-12-09 12:20:00', 2.1, 12748.0, 'United Kingdom'), (406768, '581580', '22908', 'PACK OF 20 NAPKINS RED APPLES', 2, '2011-12-09 12:20:00', 0.85, 12748.0, 'United Kingdom'), (406769, '581580', '22894', 'TABLECLOTH RED APPLES DESIGN ', 2, '2011-12-09 12:20:00', 9.95, 12748.0, 'United Kingdom'), (406770, '581580', '22704', 'WRAP RED APPLES ', 25, '2011-12-09 12:20:00', 0.42, 12748.0, 'United Kingdom'), (406771, '581580', '22721', 'SET OF 3 CAKE TINS SKETCHBOOK', 1, '2011-12-09 12:20:00', 1.95, 12748.0, 'United Kingdom'), (406772, '581580', '22816', 'CARD MOTORBIKE SANTA', 24, '2011-12-09 12:20:00', 0.42, 12748.0, 'United Kingdom'), (406773, '581580', '85049E', 'SCANDINAVIAN REDS RIBBONS', 2, '2011-12-09 12:20:00', 1.25, 12748.0, 'United Kingdom'), (406774, '581580', '22075', '6 RIBBONS ELEGANT CHRISTMAS ', 2, '2011-12-09 12:20:00', 0.39, 12748.0, 'United Kingdom'), (406775, '581580', '21351', 'CINAMMON & ORANGE WREATH', 1, '2011-12-09 12:20:00', 6.75, 12748.0, 'United Kingdom'), (406776, '581580', '22698', 'PINK REGENCY TEACUP AND SAUCER', 1, '2011-12-09 12:20:00', 2.95, 12748.0, 'United Kingdom'), (406777, '581580', '22567', '20 DOLLY PEGS RETROSPOT', 1, '2011-12-09 12:20:00', 1.45, 12748.0, 'United Kingdom'), (406778, '581580', '79321', 'CHILLI LIGHTS', 2, '2011-12-09 12:20:00', 5.75, 12748.0, 'United Kingdom'), (406779, '581580', '37500', 'TEA TIME TEAPOT IN GIFT BOX', 1, '2011-12-09 12:20:00', 4.95, 12748.0, 'United Kingdom'), (406780, '581581', '23562', 'SET OF 6 RIBBONS PERFECTLY PRETTY  ', 6, '2011-12-09 12:20:00', 2.89, 17581.0, 'United Kingdom'), (406781, '581581', '23561', 'SET OF 6 RIBBONS PARTY', 6, '2011-12-09 12:20:00', 2.89, 17581.0, 'United Kingdom'), (406782, '581581', '23681', 'LUNCH BAG RED VINTAGE DOILY', 10, '2011-12-09 12:20:00', 1.65, 17581.0, 'United Kingdom'), (406783, '581582', '23552', 'BICYCLE PUNCTURE REPAIR KIT ', 6, '2011-12-09 12:21:00', 2.08, 17581.0, 'United Kingdom'), (406784, '581582', '23498', 'CLASSIC BICYCLE CLIPS ', 12, '2011-12-09 12:21:00', 1.45, 17581.0, 'United Kingdom'), (406785, '581583', '20725', 'LUNCH BAG RED RETROSPOT', 40, '2011-12-09 12:23:00', 1.45, 13777.0, 'United Kingdom'), (406786, '581583', '85038', '6 CHOCOLATE LOVE HEART T-LIGHTS', 36, '2011-12-09 12:23:00', 1.85, 13777.0, 'United Kingdom'), (406787, '581584', '20832', 'RED FLOCK LOVE HEART PHOTO FRAME', 72, '2011-12-09 12:25:00', 0.72, 13777.0, 'United Kingdom'), (406788, '581584', '85038', '6 CHOCOLATE LOVE HEART T-LIGHTS', 48, '2011-12-09 12:25:00', 1.85, 13777.0, 'United Kingdom'), (406789, '581585', '22481', 'BLACK TEA TOWEL CLASSIC DESIGN', 12, '2011-12-09 12:31:00', 0.39, 15804.0, 'United Kingdom'), (406790, '581585', '22915', 'ASSORTED BOTTLE TOP  MAGNETS ', 24, '2011-12-09 12:31:00', 0.19, 15804.0, 'United Kingdom'), (406791, '581585', '22178', 'VICTORIAN GLASS HANGING T-LIGHT', 12, '2011-12-09 12:31:00', 1.95, 15804.0, 'United Kingdom'), (406792, '581585', '22460', 'EMBOSSED GLASS TEALIGHT HOLDER', 12, '2011-12-09 12:31:00', 1.25, 15804.0, 'United Kingdom'), (406793, '581585', '84832', 'ZINC WILLIE WINKIE  CANDLE STICK', 24, '2011-12-09 12:31:00', 0.85, 15804.0, 'United Kingdom'), (406794, '581585', '23084', 'RABBIT NIGHT LIGHT', 12, '2011-12-09 12:31:00', 2.08, 15804.0, 'United Kingdom'), (406795, '581585', '84879', 'ASSORTED COLOUR BIRD ORNAMENT', 16, '2011-12-09 12:31:00', 1.69, 15804.0, 'United Kingdom'), (406796, '581585', '84945', 'MULTI COLOUR SILVER T-LIGHT HOLDER', 24, '2011-12-09 12:31:00', 0.85, 15804.0, 'United Kingdom'), (406797, '581585', '22113', 'GREY HEART HOT WATER BOTTLE', 4, '2011-12-09 12:31:00', 4.25, 15804.0, 'United Kingdom'), (406798, '581585', '23356', 'LOVE HOT WATER BOTTLE', 3, '2011-12-09 12:31:00', 5.95, 15804.0, 'United Kingdom'), (406799, '581585', '22726', 'ALARM CLOCK BAKELIKE GREEN', 8, '2011-12-09 12:31:00', 3.75, 15804.0, 'United Kingdom'), (406800, '581585', '22727', 'ALARM CLOCK BAKELIKE RED ', 4, '2011-12-09 12:31:00', 3.75, 15804.0, 'United Kingdom'), (406801, '581585', '16016', 'LARGE CHINESE STYLE SCISSOR', 10, '2011-12-09 12:31:00', 0.85, 15804.0, 'United Kingdom'), (406802, '581585', '21916', 'SET 12 RETRO WHITE CHALK STICKS', 24, '2011-12-09 12:31:00', 0.42, 15804.0, 'United Kingdom'), (406803, '581585', '84692', 'BOX OF 24 COCKTAIL PARASOLS', 25, '2011-12-09 12:31:00', 0.42, 15804.0, 'United Kingdom'), (406804, '581585', '84946', 'ANTIQUE SILVER T-LIGHT GLASS', 12, '2011-12-09 12:31:00', 1.25, 15804.0, 'United Kingdom'), (406805, '581585', '21684', 'SMALL MEDINA STAMPED METAL BOWL ', 12, '2011-12-09 12:31:00', 0.85, 15804.0, 'United Kingdom'), (406806, '581585', '22398', 'MAGNETS PACK OF 4 SWALLOWS', 12, '2011-12-09 12:31:00', 0.39, 15804.0, 'United Kingdom'), (406807, '581585', '23328', 'SET 6 SCHOOL MILK BOTTLES IN CRATE', 4, '2011-12-09 12:31:00', 3.75, 15804.0, 'United Kingdom'), (406808, '581585', '23145', 'ZINC T-LIGHT HOLDER STAR LARGE', 12, '2011-12-09 12:31:00', 0.95, 15804.0, 'United Kingdom'), (406809, '581585', '22466', 'FAIRY TALE COTTAGE NIGHT LIGHT', 12, '2011-12-09 12:31:00', 1.95, 15804.0, 'United Kingdom'), (406810, '581586', '22061', 'LARGE CAKE STAND  HANGING STRAWBERY', 8, '2011-12-09 12:49:00', 2.95, 13113.0, 'United Kingdom'), (406811, '581586', '23275', 'SET OF 3 HANGING OWLS OLLIE BEAK', 24, '2011-12-09 12:49:00', 1.25, 13113.0, 'United Kingdom'), (406812, '581586', '21217', 'RED RETROSPOT ROUND CAKE TINS', 24, '2011-12-09 12:49:00', 8.95, 13113.0, 'United Kingdom'), (406813, '581586', '20685', 'DOORMAT RED RETROSPOT', 10, '2011-12-09 12:49:00', 7.08, 13113.0, 'United Kingdom'), (406814, '581587', '22631', 'CIRCUS PARADE LUNCH BOX ', 12, '2011-12-09 12:50:00', 1.95, 12680.0, 'France'), (406815, '581587', '22556', 'PLASTERS IN TIN CIRCUS PARADE ', 12, '2011-12-09 12:50:00', 1.65, 12680.0, 'France'), (406816, '581587', '22555', 'PLASTERS IN TIN STRONGMAN', 12, '2011-12-09 12:50:00', 1.65, 12680.0, 'France'), (406817, '581587', '22728', 'ALARM CLOCK BAKELIKE PINK', 4, '2011-12-09 12:50:00', 3.75, 12680.0, 'France'), (406818, '581587', '22727', 'ALARM CLOCK BAKELIKE RED ', 4, '2011-12-09 12:50:00', 3.75, 12680.0, 'France'), (406819, '581587', '22726', 'ALARM CLOCK BAKELIKE GREEN', 4, '2011-12-09 12:50:00', 3.75, 12680.0, 'France'), (406820, '581587', '22730', 'ALARM CLOCK BAKELIKE IVORY', 4, '2011-12-09 12:50:00', 3.75, 12680.0, 'France'), (406821, '581587', '22367', 'CHILDRENS APRON SPACEBOY DESIGN', 8, '2011-12-09 12:50:00', 1.95, 12680.0, 'France'), (406822, '581587', '22629', 'SPACEBOY LUNCH BOX ', 12, '2011-12-09 12:50:00', 1.95, 12680.0, 'France'), (406823, '581587', '23256', 'CHILDRENS CUTLERY SPACEBOY ', 4, '2011-12-09 12:50:00', 4.15, 12680.0, 'France'), (406824, '581587', '22613', 'PACK OF 20 SPACEBOY NAPKINS', 12, '2011-12-09 12:50:00', 0.85, 12680.0, 'France'), (406825, '581587', '22899', \"CHILDREN'S APRON DOLLY GIRL \", 6, '2011-12-09 12:50:00', 2.1, 12680.0, 'France'), (406826, '581587', '23254', 'CHILDRENS CUTLERY DOLLY GIRL ', 4, '2011-12-09 12:50:00', 4.15, 12680.0, 'France'), (406827, '581587', '23255', 'CHILDRENS CUTLERY CIRCUS PARADE', 4, '2011-12-09 12:50:00', 4.15, 12680.0, 'France'), (406828, '581587', '22138', 'BAKING SET 9 PIECE RETROSPOT ', 3, '2011-12-09 12:50:00', 4.95, 12680.0, 'France')]\n"
     ]
    }
   ],
   "source": [
    "cur = dbase.cursor()\n",
    "cur.execute('''select * from transactions_1''')\n",
    "# print(cur)\n",
    "print(cur.fetchall())"
   ]
  },
  {
   "cell_type": "code",
   "execution_count": null,
   "metadata": {},
   "outputs": [],
   "source": []
  },
  {
   "cell_type": "markdown",
   "metadata": {},
   "source": [
    "## Customer_data"
   ]
  },
  {
   "cell_type": "code",
   "execution_count": 19,
   "metadata": {},
   "outputs": [
    {
     "data": {
      "text/plain": [
       "<sqlite3.Cursor at 0x7f44492525e0>"
      ]
     },
     "execution_count": 19,
     "metadata": {},
     "output_type": "execute_result"
    }
   ],
   "source": [
    "dbase.execute('''create table if not exists customer_data(\n",
    "c_id integer primary key,\n",
    "c_name  TEXT NOT_NULL,\n",
    "c_ph_no TEXT,\n",
    "c_login_id TEXT,\n",
    "c_password TEXT\n",
    ") ''')"
   ]
  },
  {
   "cell_type": "code",
   "execution_count": 20,
   "metadata": {},
   "outputs": [
    {
     "name": "stdout",
     "output_type": "stream",
     "text": [
      "[('aman', '8586096103', 'aman.r1298@gmail.com', 'aman1298'), ('karan', '1234567890', 'karan@gmail.com', 'kiru1298'), ('Rohan', '9876543210', 'rohan@gmail.com', 'rohan123')]\n"
     ]
    }
   ],
   "source": [
    "#inserting values\n",
    "l = [ ('aman', '8586096103', 'aman.r1298@gmail.com', 'aman1298'),('karan', '1234567890', 'karan@gmail.com', 'kiru1298'), ('Rohan', '9876543210', 'rohan@gmail.com', 'rohan123') ]\n",
    "insert_record('customer_data',l)"
   ]
  },
  {
   "cell_type": "code",
   "execution_count": 21,
   "metadata": {},
   "outputs": [
    {
     "name": "stdout",
     "output_type": "stream",
     "text": [
      "<sqlite3.Cursor object at 0x7f445ba9db20>\n",
      "[(1, 'aman', '8586096103', 'aman.r1298@gmail.com', 'aman1298'), (2, 'karan', '1234567890', 'karan@gmail.com', 'kiru1298'), (3, 'Rohan', '9876543210', 'rohan@gmail.com', 'rohan123')]\n"
     ]
    }
   ],
   "source": [
    "# cur = dbase.cursor()\n",
    "cur.execute('''select * from customer_data''')\n",
    "print(cur)\n",
    "print(cur.fetchall())"
   ]
  },
  {
   "cell_type": "code",
   "execution_count": null,
   "metadata": {},
   "outputs": [],
   "source": []
  },
  {
   "cell_type": "markdown",
   "metadata": {},
   "source": [
    "## SALES DATA TO DB"
   ]
  },
  {
   "cell_type": "code",
   "execution_count": 15,
   "metadata": {},
   "outputs": [],
   "source": [
    "sales_data = pd.read_csv('../../Apriori/date_price_sales.csv')\n"
   ]
  },
  {
   "cell_type": "code",
   "execution_count": 16,
   "metadata": {},
   "outputs": [],
   "source": [
    "sales_data.to_sql('sales_1', dbase, if_exists='append', index=False)"
   ]
  },
  {
   "cell_type": "code",
   "execution_count": null,
   "metadata": {},
   "outputs": [],
   "source": []
  },
  {
   "cell_type": "code",
   "execution_count": null,
   "metadata": {},
   "outputs": [],
   "source": []
  },
  {
   "cell_type": "code",
   "execution_count": null,
   "metadata": {},
   "outputs": [],
   "source": []
  },
  {
   "cell_type": "markdown",
   "metadata": {},
   "source": [
    "## SHOW ALL TABLES"
   ]
  },
  {
   "cell_type": "code",
   "execution_count": 17,
   "metadata": {},
   "outputs": [
    {
     "output_type": "stream",
     "name": "stdout",
     "text": [
      "[('transactions_1',), ('sales_1',)]\n"
     ]
    }
   ],
   "source": [
    "cursor = dbase.cursor()\n",
    "cursor.execute(\"SELECT name FROM sqlite_master WHERE type='table';\")\n",
    "print(cursor.fetchall())"
   ]
  },
  {
   "cell_type": "code",
   "execution_count": 17,
   "metadata": {},
   "outputs": [],
   "source": [
    "dbase.close()"
   ]
  },
  {
   "cell_type": "code",
   "execution_count": null,
   "metadata": {},
   "outputs": [],
   "source": []
  },
  {
   "cell_type": "code",
   "execution_count": null,
   "metadata": {},
   "outputs": [],
   "source": []
  },
  {
   "cell_type": "code",
   "execution_count": null,
   "metadata": {},
   "outputs": [],
   "source": []
  },
  {
   "cell_type": "code",
   "execution_count": null,
   "metadata": {},
   "outputs": [],
   "source": []
  },
  {
   "cell_type": "code",
   "execution_count": null,
   "metadata": {},
   "outputs": [],
   "source": []
  },
  {
   "cell_type": "code",
   "execution_count": null,
   "metadata": {},
   "outputs": [],
   "source": []
  },
  {
   "cell_type": "code",
   "execution_count": null,
   "metadata": {},
   "outputs": [],
   "source": []
  },
  {
   "cell_type": "code",
   "execution_count": null,
   "metadata": {},
   "outputs": [],
   "source": []
  },
  {
   "cell_type": "code",
   "execution_count": null,
   "metadata": {},
   "outputs": [],
   "source": []
  },
  {
   "cell_type": "code",
   "execution_count": null,
   "metadata": {},
   "outputs": [],
   "source": []
  },
  {
   "cell_type": "code",
   "execution_count": null,
   "metadata": {},
   "outputs": [],
   "source": []
  },
  {
   "cell_type": "markdown",
   "metadata": {},
   "source": [
    "## Creating shop_info"
   ]
  },
  {
   "cell_type": "code",
   "execution_count": 143,
   "metadata": {},
   "outputs": [],
   "source": [
    "data = pd.read_csv('onlineretail_clean.csv')\n",
    "data2 = pd.read_csv('onlineretail2_clean.csv')"
   ]
  },
  {
   "cell_type": "code",
   "execution_count": 144,
   "metadata": {},
   "outputs": [
    {
     "output_type": "execute_result",
     "data": {
      "text/plain": [
       "   Unnamed: 0 Invoice StockCode                          Description  \\\n",
       "0           0  489434     85048  15CM CHRISTMAS GLASS BALL 20 LIGHTS   \n",
       "1           1  489434    79323P                   PINK CHERRY LIGHTS   \n",
       "2           2  489434    79323W                  WHITE CHERRY LIGHTS   \n",
       "3           3  489434     22041         RECORD FRAME 7\" SINGLE SIZE    \n",
       "4           4  489434     21232       STRAWBERRY CERAMIC TRINKET BOX   \n",
       "\n",
       "   Quantity          InvoiceDate  Price  Customer ID         Country  \n",
       "0        12  2009-12-01 07:45:00   6.95      13085.0  United Kingdom  \n",
       "1        12  2009-12-01 07:45:00   6.75      13085.0  United Kingdom  \n",
       "2        12  2009-12-01 07:45:00   6.75      13085.0  United Kingdom  \n",
       "3        48  2009-12-01 07:45:00   2.10      13085.0  United Kingdom  \n",
       "4        24  2009-12-01 07:45:00   1.25      13085.0  United Kingdom  "
      ],
      "text/html": "<div>\n<style scoped>\n    .dataframe tbody tr th:only-of-type {\n        vertical-align: middle;\n    }\n\n    .dataframe tbody tr th {\n        vertical-align: top;\n    }\n\n    .dataframe thead th {\n        text-align: right;\n    }\n</style>\n<table border=\"1\" class=\"dataframe\">\n  <thead>\n    <tr style=\"text-align: right;\">\n      <th></th>\n      <th>Unnamed: 0</th>\n      <th>Invoice</th>\n      <th>StockCode</th>\n      <th>Description</th>\n      <th>Quantity</th>\n      <th>InvoiceDate</th>\n      <th>Price</th>\n      <th>Customer ID</th>\n      <th>Country</th>\n    </tr>\n  </thead>\n  <tbody>\n    <tr>\n      <th>0</th>\n      <td>0</td>\n      <td>489434</td>\n      <td>85048</td>\n      <td>15CM CHRISTMAS GLASS BALL 20 LIGHTS</td>\n      <td>12</td>\n      <td>2009-12-01 07:45:00</td>\n      <td>6.95</td>\n      <td>13085.0</td>\n      <td>United Kingdom</td>\n    </tr>\n    <tr>\n      <th>1</th>\n      <td>1</td>\n      <td>489434</td>\n      <td>79323P</td>\n      <td>PINK CHERRY LIGHTS</td>\n      <td>12</td>\n      <td>2009-12-01 07:45:00</td>\n      <td>6.75</td>\n      <td>13085.0</td>\n      <td>United Kingdom</td>\n    </tr>\n    <tr>\n      <th>2</th>\n      <td>2</td>\n      <td>489434</td>\n      <td>79323W</td>\n      <td>WHITE CHERRY LIGHTS</td>\n      <td>12</td>\n      <td>2009-12-01 07:45:00</td>\n      <td>6.75</td>\n      <td>13085.0</td>\n      <td>United Kingdom</td>\n    </tr>\n    <tr>\n      <th>3</th>\n      <td>3</td>\n      <td>489434</td>\n      <td>22041</td>\n      <td>RECORD FRAME 7\" SINGLE SIZE</td>\n      <td>48</td>\n      <td>2009-12-01 07:45:00</td>\n      <td>2.10</td>\n      <td>13085.0</td>\n      <td>United Kingdom</td>\n    </tr>\n    <tr>\n      <th>4</th>\n      <td>4</td>\n      <td>489434</td>\n      <td>21232</td>\n      <td>STRAWBERRY CERAMIC TRINKET BOX</td>\n      <td>24</td>\n      <td>2009-12-01 07:45:00</td>\n      <td>1.25</td>\n      <td>13085.0</td>\n      <td>United Kingdom</td>\n    </tr>\n  </tbody>\n</table>\n</div>"
     },
     "metadata": {},
     "execution_count": 144
    }
   ],
   "source": [
    "data.head()\n",
    "data2.head()"
   ]
  },
  {
   "cell_type": "code",
   "execution_count": 145,
   "metadata": {},
   "outputs": [
    {
     "output_type": "stream",
     "name": "stdout",
     "text": [
      "<class 'pandas.core.frame.DataFrame'>\nRangeIndex: 406829 entries, 0 to 406828\nData columns (total 9 columns):\n #   Column       Non-Null Count   Dtype  \n---  ------       --------------   -----  \n 0   Unnamed: 0   406829 non-null  int64  \n 1   Invoice      406829 non-null  object \n 2   StockCode    406829 non-null  object \n 3   Description  406829 non-null  object \n 4   Quantity     406829 non-null  int64  \n 5   InvoiceDate  406829 non-null  object \n 6   Price        406829 non-null  float64\n 7   Customer ID  406829 non-null  float64\n 8   Country      406829 non-null  object \ndtypes: float64(2), int64(2), object(5)\nmemory usage: 27.9+ MB\n"
     ]
    }
   ],
   "source": [
    "data.info()\n"
   ]
  },
  {
   "cell_type": "code",
   "execution_count": 129,
   "metadata": {},
   "outputs": [
    {
     "output_type": "stream",
     "name": "stdout",
     "text": [
      "<class 'pandas.core.frame.DataFrame'>\nRangeIndex: 824348 entries, 0 to 824347\nData columns (total 8 columns):\n #   Column       Non-Null Count   Dtype         \n---  ------       --------------   -----         \n 0   Invoice      824348 non-null  object        \n 1   StockCode    824348 non-null  object        \n 2   Description  824348 non-null  object        \n 3   Quantity     824348 non-null  int64         \n 4   InvoiceDate  824348 non-null  datetime64[ns]\n 5   Price        824348 non-null  float64       \n 6   Customer ID  824348 non-null  float64       \n 7   Country      824348 non-null  object        \ndtypes: datetime64[ns](1), float64(2), int64(1), object(4)\nmemory usage: 50.3+ MB\n"
     ]
    }
   ],
   "source": [
    "data2.info()"
   ]
  },
  {
   "cell_type": "code",
   "execution_count": 130,
   "metadata": {},
   "outputs": [
    {
     "output_type": "stream",
     "name": "stdout",
     "text": [
      "<class 'pandas.core.frame.DataFrame'>\nInt64Index: 406829 entries, 0 to 406828\nData columns (total 8 columns):\n #   Column       Non-Null Count   Dtype         \n---  ------       --------------   -----         \n 0   Invoice      406829 non-null  object        \n 1   StockCode    406829 non-null  object        \n 2   Description  406829 non-null  object        \n 3   Quantity     406829 non-null  int64         \n 4   InvoiceDate  406829 non-null  datetime64[ns]\n 5   Price        406829 non-null  float64       \n 6   Customer ID  406829 non-null  float64       \n 7   Country      406829 non-null  object        \ndtypes: datetime64[ns](1), float64(2), int64(1), object(4)\nmemory usage: 27.9+ MB\n"
     ]
    }
   ],
   "source": [
    "data.dropna(inplace=True)\n",
    "data.info()"
   ]
  },
  {
   "cell_type": "code",
   "execution_count": 131,
   "metadata": {},
   "outputs": [
    {
     "output_type": "execute_result",
     "data": {
      "text/plain": [
       "3684"
      ]
     },
     "metadata": {},
     "execution_count": 131
    }
   ],
   "source": [
    "len(data['StockCode'].unique())"
   ]
  },
  {
   "cell_type": "code",
   "execution_count": 132,
   "metadata": {},
   "outputs": [
    {
     "output_type": "execute_result",
     "data": {
      "text/plain": [
       "3896"
      ]
     },
     "metadata": {},
     "execution_count": 132
    }
   ],
   "source": [
    "len(data['Description'].unique())"
   ]
  },
  {
   "cell_type": "code",
   "execution_count": 133,
   "metadata": {},
   "outputs": [
    {
     "output_type": "execute_result",
     "data": {
      "text/plain": [
       "Index(['Invoice', 'StockCode', 'Description', 'Quantity', 'InvoiceDate',\n",
       "       'Price', 'Customer ID', 'Country'],\n",
       "      dtype='object')"
      ]
     },
     "metadata": {},
     "execution_count": 133
    }
   ],
   "source": [
    "data.columns"
   ]
  },
  {
   "cell_type": "code",
   "execution_count": 79,
   "metadata": {},
   "outputs": [
    {
     "output_type": "execute_result",
     "data": {
      "text/plain": [
       "Index(['Invoice', 'StockCode', 'Description', 'Quantity', 'InvoiceDate',\n",
       "       'Price', 'Customer ID', 'Country'],\n",
       "      dtype='object')"
      ]
     },
     "metadata": {},
     "execution_count": 79
    }
   ],
   "source": [
    "data.columns"
   ]
  },
  {
   "cell_type": "code",
   "execution_count": 136,
   "metadata": {},
   "outputs": [],
   "source": [
    "shop1 = data[['StockCode','Description','Price']]\n",
    "shop2 = data2[['StockCode','Description','Price']]\n"
   ]
  },
  {
   "cell_type": "code",
   "execution_count": 137,
   "metadata": {},
   "outputs": [],
   "source": [
    "shop1 = shop1.drop_duplicates(subset='StockCode')\n",
    "shop2 = shop2.drop_duplicates(subset='StockCode')"
   ]
  },
  {
   "cell_type": "code",
   "execution_count": 138,
   "metadata": {},
   "outputs": [
    {
     "output_type": "stream",
     "name": "stdout",
     "text": [
      "<class 'pandas.core.frame.DataFrame'>\nInt64Index: 3684 entries, 0 to 406349\nData columns (total 3 columns):\n #   Column       Non-Null Count  Dtype  \n---  ------       --------------  -----  \n 0   StockCode    3684 non-null   object \n 1   Description  3684 non-null   object \n 2   Price        3684 non-null   float64\ndtypes: float64(1), object(2)\nmemory usage: 115.1+ KB\n"
     ]
    }
   ],
   "source": [
    "shop1.info()"
   ]
  },
  {
   "cell_type": "code",
   "execution_count": 139,
   "metadata": {},
   "outputs": [
    {
     "output_type": "stream",
     "name": "stdout",
     "text": [
      "<class 'pandas.core.frame.DataFrame'>\nInt64Index: 4644 entries, 0 to 823867\nData columns (total 3 columns):\n #   Column       Non-Null Count  Dtype  \n---  ------       --------------  -----  \n 0   StockCode    4644 non-null   object \n 1   Description  4644 non-null   object \n 2   Price        4644 non-null   float64\ndtypes: float64(1), object(2)\nmemory usage: 305.1+ KB\n"
     ]
    }
   ],
   "source": [
    "shop2.info()"
   ]
  },
  {
   "cell_type": "code",
   "execution_count": 83,
   "metadata": {},
   "outputs": [
    {
     "output_type": "execute_result",
     "data": {
      "text/plain": [
       "4644"
      ]
     },
     "metadata": {},
     "execution_count": 83
    }
   ],
   "source": [
    "len(shop)"
   ]
  },
  {
   "cell_type": "code",
   "execution_count": 140,
   "metadata": {},
   "outputs": [],
   "source": [
    "shop1['Quantity'] = 300\n",
    "shop2['Quantity'] = 300"
   ]
  },
  {
   "cell_type": "code",
   "execution_count": 141,
   "metadata": {},
   "outputs": [],
   "source": [
    "shop1.to_csv('../../database/store_1.csv',index=False)\n",
    "shop2.to_csv('../../database/store_2.csv',index=False)"
   ]
  },
  {
   "cell_type": "code",
   "execution_count": 88,
   "metadata": {},
   "outputs": [
    {
     "output_type": "execute_result",
     "data": {
      "text/plain": [
       "<sqlite3.Cursor at 0x7fd8c1f60b90>"
      ]
     },
     "metadata": {},
     "execution_count": 88
    }
   ],
   "source": [
    "dbase.execute('''drop table store_1''')"
   ]
  },
  {
   "cell_type": "code",
   "execution_count": 142,
   "metadata": {},
   "outputs": [],
   "source": [
    "shop1.to_sql('store_1', dbase, if_exists='append', index=False)\n",
    "shop2.to_sql('store_2', dbase, if_exists='append', index=False)"
   ]
  },
  {
   "cell_type": "code",
   "execution_count": null,
   "metadata": {},
   "outputs": [],
   "source": []
  },
  {
   "cell_type": "code",
   "execution_count": null,
   "metadata": {},
   "outputs": [],
   "source": []
  },
  {
   "cell_type": "code",
   "execution_count": null,
   "metadata": {},
   "outputs": [],
   "source": []
  },
  {
   "cell_type": "code",
   "execution_count": null,
   "metadata": {},
   "outputs": [],
   "source": []
  },
  {
   "cell_type": "code",
   "execution_count": null,
   "metadata": {},
   "outputs": [],
   "source": []
  },
  {
   "cell_type": "code",
   "execution_count": null,
   "metadata": {},
   "outputs": [],
   "source": []
  },
  {
   "cell_type": "code",
   "execution_count": null,
   "metadata": {},
   "outputs": [],
   "source": []
  },
  {
   "cell_type": "code",
   "execution_count": null,
   "metadata": {},
   "outputs": [],
   "source": []
  },
  {
   "cell_type": "code",
   "execution_count": 20,
   "metadata": {},
   "outputs": [
    {
     "name": "stdout",
     "output_type": "stream",
     "text": [
      "<class 'str'> 8\n",
      "wrong user name\n"
     ]
    }
   ],
   "source": [
    "import sqlite3\n",
    "import time\n",
    "import datetime\n",
    "import random\n",
    "import pandas as pd\n",
    "\n",
    "\n",
    "df = pd.read_sql_query(\"SELECT * FROM customer_data\", dbase)\n",
    "\n",
    "# login_id = 'karn@gmail.com'\n",
    "login_id = 'karan@gmail.com'\n",
    "# password = 'kiru1298'\n",
    "password = 'kiru128'\n",
    "val = ''\n",
    "val = df[df['c_login_id']==login_id]['c_password'][1]\n",
    "print(type(val), len(val))\n",
    "name = \"\"\n",
    "if val == password: \n",
    "    name = df[df['c_password']==val]['c_name'][1]\n",
    "    print('welcome',name)\n",
    "else:\n",
    "    print('wrong user name')\n",
    "# else:\n",
    "#     print('Wrong password')"
   ]
  },
  {
   "cell_type": "code",
   "execution_count": null,
   "metadata": {},
   "outputs": [],
   "source": []
  }
 ],
 "metadata": {
  "kernelspec": {
   "name": "python3",
   "display_name": "Python 3.8.5 64-bit",
   "metadata": {
    "interpreter": {
     "hash": "5acf8f9fe9176c4b7a462ebb61a14d585ac1db179be5c6c127fc153963b0be7f"
    }
   }
  },
  "language_info": {
   "codemirror_mode": {
    "name": "ipython",
    "version": 3
   },
   "file_extension": ".py",
   "mimetype": "text/x-python",
   "name": "python",
   "nbconvert_exporter": "python",
   "pygments_lexer": "ipython3",
   "version": "3.8.5-final"
  }
 },
 "nbformat": 4,
 "nbformat_minor": 4
}